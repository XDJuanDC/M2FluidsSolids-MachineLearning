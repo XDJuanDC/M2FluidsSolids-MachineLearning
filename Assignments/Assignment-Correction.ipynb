{
 "cells": [
  {
   "cell_type": "markdown",
   "id": "732a20b2",
   "metadata": {},
   "source": [
    "# Assignment 1\n",
    "\n",
    "In this assignment you are tasked to fill this notebook by answering the questions, sometimes you will find questions that require you to type, you can do that by inserting a Markdown cell below the question and type your answer in it.\n",
    "\n",
    "## Goal:\n",
    "The goals of this assignment is to:\n",
    "- Implement, debug and visualize multivariate linear regression to nonlinear data\n",
    "- Get introduced to the concepts of overfitting and underfitting\n",
    "- Implementing linear regression with regualrization and understanding the importance of train\\test errors\n",
    "\n",
    "Throughout this assignment you will be using the `Assignment_Data.csv` file."
   ]
  },
  {
   "cell_type": "markdown",
   "id": "278aa23b",
   "metadata": {},
   "source": [
    "## Import Libraries and Load Data"
   ]
  },
  {
   "cell_type": "code",
   "execution_count": 55,
   "id": "3a47e49e",
   "metadata": {},
   "outputs": [],
   "source": [
    "%matplotlib inline\n",
    "import pandas as pd\n",
    "import numpy as np\n",
    "import matplotlib.pyplot as plt"
   ]
  },
  {
   "cell_type": "code",
   "execution_count": 56,
   "id": "18148948",
   "metadata": {},
   "outputs": [],
   "source": [
    "data = pd.read_csv(\"./Assignment_Data.csv\")"
   ]
  },
  {
   "cell_type": "markdown",
   "id": "222d586e",
   "metadata": {},
   "source": [
    "## Understand and Visualize the Data"
   ]
  },
  {
   "cell_type": "code",
   "execution_count": 57,
   "id": "d0029bc9",
   "metadata": {},
   "outputs": [
    {
     "data": {
      "text/html": [
       "<div>\n",
       "<style scoped>\n",
       "    .dataframe tbody tr th:only-of-type {\n",
       "        vertical-align: middle;\n",
       "    }\n",
       "\n",
       "    .dataframe tbody tr th {\n",
       "        vertical-align: top;\n",
       "    }\n",
       "\n",
       "    .dataframe thead th {\n",
       "        text-align: right;\n",
       "    }\n",
       "</style>\n",
       "<table border=\"1\" class=\"dataframe\">\n",
       "  <thead>\n",
       "    <tr style=\"text-align: right;\">\n",
       "      <th></th>\n",
       "      <th>X</th>\n",
       "      <th>Y</th>\n",
       "    </tr>\n",
       "  </thead>\n",
       "  <tbody>\n",
       "    <tr>\n",
       "      <th>0</th>\n",
       "      <td>0.352375</td>\n",
       "      <td>0.089555</td>\n",
       "    </tr>\n",
       "    <tr>\n",
       "      <th>1</th>\n",
       "      <td>4.895123</td>\n",
       "      <td>-1.280276</td>\n",
       "    </tr>\n",
       "    <tr>\n",
       "      <th>2</th>\n",
       "      <td>1.866624</td>\n",
       "      <td>1.289304</td>\n",
       "    </tr>\n",
       "    <tr>\n",
       "      <th>3</th>\n",
       "      <td>3.507061</td>\n",
       "      <td>-0.268157</td>\n",
       "    </tr>\n",
       "    <tr>\n",
       "      <th>4</th>\n",
       "      <td>3.380874</td>\n",
       "      <td>-0.206807</td>\n",
       "    </tr>\n",
       "  </tbody>\n",
       "</table>\n",
       "</div>"
      ],
      "text/plain": [
       "          X         Y\n",
       "0  0.352375  0.089555\n",
       "1  4.895123 -1.280276\n",
       "2  1.866624  1.289304\n",
       "3  3.507061 -0.268157\n",
       "4  3.380874 -0.206807"
      ]
     },
     "execution_count": 57,
     "metadata": {},
     "output_type": "execute_result"
    }
   ],
   "source": [
    "data.head()"
   ]
  },
  {
   "cell_type": "code",
   "execution_count": 58,
   "id": "fb2d5dd1",
   "metadata": {
    "scrolled": true
   },
   "outputs": [
    {
     "data": {
      "text/html": [
       "<div>\n",
       "<style scoped>\n",
       "    .dataframe tbody tr th:only-of-type {\n",
       "        vertical-align: middle;\n",
       "    }\n",
       "\n",
       "    .dataframe tbody tr th {\n",
       "        vertical-align: top;\n",
       "    }\n",
       "\n",
       "    .dataframe thead th {\n",
       "        text-align: right;\n",
       "    }\n",
       "</style>\n",
       "<table border=\"1\" class=\"dataframe\">\n",
       "  <thead>\n",
       "    <tr style=\"text-align: right;\">\n",
       "      <th></th>\n",
       "      <th>X</th>\n",
       "      <th>Y</th>\n",
       "    </tr>\n",
       "  </thead>\n",
       "  <tbody>\n",
       "    <tr>\n",
       "      <th>count</th>\n",
       "      <td>50.000000</td>\n",
       "      <td>50.000000</td>\n",
       "    </tr>\n",
       "    <tr>\n",
       "      <th>mean</th>\n",
       "      <td>3.191593</td>\n",
       "      <td>-0.090497</td>\n",
       "    </tr>\n",
       "    <tr>\n",
       "      <th>std</th>\n",
       "      <td>1.839482</td>\n",
       "      <td>0.715067</td>\n",
       "    </tr>\n",
       "    <tr>\n",
       "      <th>min</th>\n",
       "      <td>0.100000</td>\n",
       "      <td>-1.333976</td>\n",
       "    </tr>\n",
       "    <tr>\n",
       "      <th>25%</th>\n",
       "      <td>1.645796</td>\n",
       "      <td>-0.695994</td>\n",
       "    </tr>\n",
       "    <tr>\n",
       "      <th>50%</th>\n",
       "      <td>3.191593</td>\n",
       "      <td>0.015191</td>\n",
       "    </tr>\n",
       "    <tr>\n",
       "      <th>75%</th>\n",
       "      <td>4.737389</td>\n",
       "      <td>0.513288</td>\n",
       "    </tr>\n",
       "    <tr>\n",
       "      <th>max</th>\n",
       "      <td>6.283185</td>\n",
       "      <td>1.289304</td>\n",
       "    </tr>\n",
       "  </tbody>\n",
       "</table>\n",
       "</div>"
      ],
      "text/plain": [
       "               X          Y\n",
       "count  50.000000  50.000000\n",
       "mean    3.191593  -0.090497\n",
       "std     1.839482   0.715067\n",
       "min     0.100000  -1.333976\n",
       "25%     1.645796  -0.695994\n",
       "50%     3.191593   0.015191\n",
       "75%     4.737389   0.513288\n",
       "max     6.283185   1.289304"
      ]
     },
     "execution_count": 58,
     "metadata": {},
     "output_type": "execute_result"
    }
   ],
   "source": [
    "data.describe()"
   ]
  },
  {
   "cell_type": "markdown",
   "id": "7cf09d53",
   "metadata": {},
   "source": [
    "### Question 1\n",
    "Make a scatter plot to visualize the data, what are your comments?"
   ]
  },
  {
   "cell_type": "code",
   "execution_count": null,
   "id": "7527a5b4",
   "metadata": {},
   "outputs": [],
   "source": []
  },
  {
   "cell_type": "markdown",
   "id": "d755ebe3",
   "metadata": {},
   "source": [
    "As explained in class, linear regression might not be directly suitable for nonlinear data.\n",
    "However, by doing feature expansion we can still use linear regression techniques to fit nonlinear data. As a result, you will be able to fit the data using different degrees polynomials, e.g. a degree two polynomial (which is a linear combination of $1, x$ and $x^2$), or a degree three polynomial (which is a linear combination of $1, x, x^2$ and $x^3$), etc...\n",
    "\n",
    "Higher degree polynomials are more expensive to compute and to fit, but can capture finer details in the data, which results in more expressive models."
   ]
  },
  {
   "cell_type": "code",
   "execution_count": 59,
   "id": "2dc30424",
   "metadata": {},
   "outputs": [
    {
     "name": "stdout",
     "output_type": "stream",
     "text": [
      "Shape of x (50,)\n",
      "Shape of y (50,)\n"
     ]
    }
   ],
   "source": [
    "x = np.array(data['X'])\n",
    "y = np.array(data['Y'])\n",
    "print(f'Shape of x {x.shape}')\n",
    "print(f'Shape of y {y.shape}')"
   ]
  },
  {
   "cell_type": "markdown",
   "id": "86b925ee",
   "metadata": {},
   "source": [
    "## Process the Data"
   ]
  },
  {
   "cell_type": "markdown",
   "id": "5334993f",
   "metadata": {},
   "source": [
    "### Question 2\n",
    "Complete the following function `build_poly()` which is a function that takes the 1D array x as input along with an integer value degree and outputs a 2D array phi that expands x into a polynomial with the associated degree"
   ]
  },
  {
   "cell_type": "code",
   "execution_count": 60,
   "id": "4df7749a",
   "metadata": {},
   "outputs": [],
   "source": [
    "def build_poly(x, degree):\n",
    "    \"\"\"Polynomial expansion of x with the given degree\"\"\"\n",
    "    # write your code in between these two lines\n",
    "    # ***************************************************\n",
    "    phi = np.ones((len(x),1))\n",
    "    for i in range(degree):\n",
    "        xi = x.reshape((-1,1))**(i+1)\n",
    "        phi = np.concatenate((phi,xi),axis = 1)\n",
    "    # ***************************************************\n",
    "    \n",
    "    return phi"
   ]
  },
  {
   "cell_type": "markdown",
   "id": "b19ebe1f",
   "metadata": {},
   "source": [
    "The function `plot_fitted_curve()` is used to plot the learned curve on top of the data point"
   ]
  },
  {
   "cell_type": "code",
   "execution_count": 61,
   "id": "34ba409d",
   "metadata": {},
   "outputs": [],
   "source": [
    "def plot_fitted_curve(y, x, weights, degree, ax):\n",
    "    \"\"\"plot the fitted curve.\"\"\"\n",
    "    ax.scatter(x, y, color='b', s=12, facecolors='none', edgecolors='r')\n",
    "    xvals = np.arange(min(x) - 0.1, max(x) + 0.1, 0.1)\n",
    "    tx = build_poly(xvals, degree)\n",
    "    f = tx.dot(weights)\n",
    "    ax.plot(xvals, f)\n",
    "    ax.set_xlabel(\"x\")\n",
    "    ax.set_ylabel(\"y\")\n",
    "    ax.set_title(\"Polynomial degree \" + str(degree))"
   ]
  },
  {
   "cell_type": "code",
   "execution_count": 62,
   "id": "b7d10cb1",
   "metadata": {},
   "outputs": [],
   "source": [
    "def ToRescaled(x, mean=None, std=None):\n",
    "    if mean is None:\n",
    "        mean = np.mean(x)\n",
    "    if std is None:\n",
    "        std = np.std(x)\n",
    "    x_ = (x - mean) / std\n",
    "    return x_, mean, std\n",
    "    \n",
    "def FromRescaled(x_, mean, std):\n",
    "    x = x_ * std + mean \n",
    "    return x"
   ]
  },
  {
   "cell_type": "markdown",
   "id": "5280ce19",
   "metadata": {},
   "source": [
    "### Question 3\n",
    "Use the function ToRescaled() to rescale the values of X and Y."
   ]
  },
  {
   "cell_type": "code",
   "execution_count": 63,
   "id": "08a297a9",
   "metadata": {},
   "outputs": [],
   "source": [
    "x_, mean_x, std_x = ToRescaled(x)\n",
    "y_, mean_y, std_y = ToRescaled(y)"
   ]
  },
  {
   "cell_type": "markdown",
   "id": "f48e0a16",
   "metadata": {},
   "source": [
    "## Learning"
   ]
  },
  {
   "cell_type": "markdown",
   "id": "cc0f2f63",
   "metadata": {},
   "source": [
    "### Question 4\n",
    "Complete the function `polynomial_regression_direct()` to implement the direct method of solving linear regression for polynomials of degree 1, 3, 7, and 12. Use `plot_fitted_curve()` to plot the results, and show the MSE for each."
   ]
  },
  {
   "cell_type": "code",
   "execution_count": 64,
   "id": "ce1c58a7",
   "metadata": {},
   "outputs": [],
   "source": [
    "def least_squares(y, tx):\n",
    "    \"\"\"calculate the least squares solution.\"\"\"\n",
    "    # write your code in between these two lines\n",
    "    # ***************************************************\n",
    "    w = np.linalg.solve(np.dot(tx.T,tx),np.dot(tx.T,y.reshape((-1,1))))\n",
    "    e = y.reshape((-1,1)) - (np.dot(tx, w))\n",
    "    Lw = (1/(2*y.shape[0]))*np.dot(e.T, e)\n",
    "    # ***************************************************\n",
    "    return w,Lw"
   ]
  },
  {
   "cell_type": "code",
   "execution_count": 65,
   "id": "fd2b7abf",
   "metadata": {},
   "outputs": [],
   "source": [
    "def polynomial_regression_direct():\n",
    "    \"\"\"Constructing the polynomial basis function expansion of the data,\n",
    "       and then running least squares regression.\"\"\"\n",
    "    # define parameters\n",
    "    degrees = [1, 3, 7, 12]\n",
    "    \n",
    "    # define the structure of the figure\n",
    "    num_row = 2\n",
    "    num_col = 2\n",
    "    f, axs = plt.subplots(num_row, num_col)\n",
    "\n",
    "    for ind, degree in enumerate(degrees):\n",
    "        phi = build_poly(x_, degree)\n",
    "        weights, mse = least_squares(y_, phi)\n",
    "        print(\"Processing {i}th experiment, degree={d}, mse={mse}\".format(\n",
    "              i=ind + 1, d=degree, mse=mse))\n",
    "        # plot fit\n",
    "        plot_fitted_curve(\n",
    "            y_, x_, weights, degree, axs[ind // num_col][ind % num_col])\n",
    "    plt.tight_layout()\n",
    "    plt.show()"
   ]
  },
  {
   "cell_type": "code",
   "execution_count": 66,
   "id": "c17b6a36",
   "metadata": {
    "scrolled": true
   },
   "outputs": [
    {
     "name": "stdout",
     "output_type": "stream",
     "text": [
      "Processing 1th experiment, degree=1, mse=[[0.22218049]]\n",
      "Processing 2th experiment, degree=3, mse=[[0.06671895]]\n",
      "Processing 3th experiment, degree=7, mse=[[0.06219327]]\n",
      "Processing 4th experiment, degree=12, mse=[[0.05762994]]\n"
     ]
    },
    {
     "data": {
      "image/png": "[encoded data removed]",
      "text/plain": [
       "<Figure size 432x288 with 4 Axes>"
      ]
     },
     "metadata": {
      "needs_background": "light"
     },
     "output_type": "display_data"
    }
   ],
   "source": [
    "polynomial_regression_direct()"
   ]
  },
  {
   "cell_type": "markdown",
   "id": "660f6bd1",
   "metadata": {},
   "source": [
    "### Question 5\n",
    "Comment on the values of the MSE"
   ]
  },
  {
   "cell_type": "code",
   "execution_count": 67,
   "id": "e0ab0068",
   "metadata": {},
   "outputs": [],
   "source": [
    "# write your answer here"
   ]
  },
  {
   "cell_type": "markdown",
   "id": "31ba8a58",
   "metadata": {},
   "source": [
    "### Question 6\n",
    "Complete the function `polynomial_regression_GradientDescent()` to do the same as Question 4 but by using gradient descent this time."
   ]
  },
  {
   "cell_type": "code",
   "execution_count": 68,
   "id": "f35c8fc2",
   "metadata": {},
   "outputs": [],
   "source": [
    "def polynomial_regression_GradientDescent():\n",
    "    degrees = [1, 3, 7, 12]\n",
    "    T = [10000, 10000, 100000, 10000000]   # number of times steps\n",
    "    alpha = [1.0, 0.01, 0.001, 0.00001]  # learning parameter\n",
    "    num_row = 2\n",
    "    num_col = 2\n",
    "    f, axs = plt.subplots(num_row, num_col)\n",
    "    for ind, degree in enumerate(degrees):\n",
    "        phi = build_poly(x_, degree)\n",
    "        N = phi.shape[0]\n",
    "        M = phi.shape[1]\n",
    "        theta = np.random.rand(M)\n",
    "        for t in range(T[ind]):\n",
    "            h_minus_y = np.sum(theta[np.newaxis, :] * phi, axis=1) - y_\n",
    "            J = np.sum(h_minus_y**2) / (2 * N)\n",
    "            dJ = np.sum(h_minus_y[:, np.newaxis] * phi, axis=0) / N\n",
    "            theta -= alpha[ind] * dJ\n",
    "        print(\"Processing {i}th experiment, degree={d}, mse={loss}\".format(\n",
    "                  i=ind + 1, d=degree, loss=J))\n",
    "        plot_fitted_curve(\n",
    "            y_, x_, theta, degree, axs[ind // num_col][ind % num_col])\n",
    "    plt.tight_layout()\n",
    "    plt.show()\n"
   ]
  },
  {
   "cell_type": "code",
   "execution_count": 69,
   "id": "a79098f6",
   "metadata": {},
   "outputs": [
    {
     "name": "stdout",
     "output_type": "stream",
     "text": [
      "Processing 1th experiment, degree=1, mse=0.22218049462857448\n",
      "Processing 2th experiment, degree=3, mse=0.0667189485237273\n",
      "Processing 3th experiment, degree=7, mse=0.06431767426635937\n",
      "Processing 4th experiment, degree=12, mse=0.062200527371813946\n"
     ]
    },
    {
     "data": {
      "image/png": "[encoded data removed]",
      "text/plain": [
       "<Figure size 432x288 with 4 Axes>"
      ]
     },
     "metadata": {
      "needs_background": "light"
     },
     "output_type": "display_data"
    }
   ],
   "source": [
    "polynomial_regression_GradientDescent()"
   ]
  },
  {
   "cell_type": "markdown",
   "id": "4a7076c2",
   "metadata": {},
   "source": [
    "## Train/Test Split and Evaluation"
   ]
  },
  {
   "cell_type": "markdown",
   "id": "df57e829",
   "metadata": {},
   "source": [
    "### Question 7\n",
    "Let us show the train and test splits for various polynomial degrees. First of all, please fill in the function `split_data()`"
   ]
  },
  {
   "cell_type": "code",
   "execution_count": 70,
   "id": "33ae6ff7",
   "metadata": {},
   "outputs": [],
   "source": [
    "def split_data(x, y, ratio, seed=1):\n",
    "    \"\"\"\n",
    "    split the dataset based on the split ratio. If ratio is 0.8 \n",
    "    you will have 80% of your data set dedicated to training \n",
    "    and the rest dedicated to testing, this function returns four arrays\n",
    "    x & y for training, and x & y for testing\n",
    "    \"\"\"\n",
    "    np.random.seed(seed)\n",
    "    data_size = len(y)\n",
    "    # write your code in between these two lines\n",
    "    # ***************************************************\n",
    "    shuffle_indices = np.random.permutation(np.arange(data_size))\n",
    "    shuffled_y = y[shuffle_indices].reshape((-1,1))\n",
    "    shuffled_x = x[shuffle_indices]\n",
    "    train_x = shuffled_x[0:int(np.rint(data_size*ratio)),:]\n",
    "    train_y = shuffled_y[0:int(np.rint(data_size*ratio)),:]\n",
    "    test_x = shuffled_x[int(np.rint(data_size*ratio)):,:]\n",
    "    test_y = shuffled_y[int(np.rint(data_size*ratio)):,:]\n",
    "    # ***************************************************\n",
    "    \n",
    "    return train_x, train_y, test_x, test_y"
   ]
  },
  {
   "cell_type": "markdown",
   "id": "8c1d05d1",
   "metadata": {},
   "source": [
    "### Question 8\n",
    "Fill the `train_test_split_demo()` function that splits the data by using the function `split_data()` and then uses the direct method to solve the polynomial regression and prints the split ratio, polynomial degree, the training error, and the testing error."
   ]
  },
  {
   "cell_type": "code",
   "execution_count": 71,
   "id": "26609e2f",
   "metadata": {},
   "outputs": [],
   "source": [
    "def train_test_split_demo(x, y, degree, ratio, seed):\n",
    "    \"\"\"polynomial regression with different split ratios and different degrees.\"\"\"\n",
    "    # write your code in between these two lines\n",
    "    # ***************************************************\n",
    "    phi = build_poly(x, degree)\n",
    "    train_x, train_y, test_x, test_y = split_data(phi, y, ratio, seed=seed)\n",
    "    w,mse_tr = least_squares(train_y, train_x)\n",
    "    e = test_y.reshape((-1,1)) - (np.dot(test_x, w.reshape((-1,1))))\n",
    "    mse_te = (1/(2*test_y.shape[0]))*np.dot(e.T, e)\n",
    "    # ***************************************************\n",
    "    \n",
    "    print(\"proportion={p}, degree={d}, Training MSE={tr:.3f}, Testing MSE={te:.3f}\".format(\n",
    "          p=ratio, d=degree, tr=mse_tr[0,0], te=mse_te[0,0]))"
   ]
  },
  {
   "cell_type": "markdown",
   "id": "e7a0a36f",
   "metadata": {},
   "source": [
    "Run the cell below to test your functions"
   ]
  },
  {
   "cell_type": "code",
   "execution_count": 72,
   "id": "f7c3ebda",
   "metadata": {},
   "outputs": [
    {
     "name": "stdout",
     "output_type": "stream",
     "text": [
      "proportion=0.9, degree=1, Training MSE=0.243, Testing MSE=0.033\n",
      "proportion=0.9, degree=3, Training MSE=0.070, Testing MSE=0.042\n",
      "proportion=0.9, degree=7, Training MSE=0.064, Testing MSE=0.048\n",
      "proportion=0.9, degree=12, Training MSE=0.058, Testing MSE=0.062\n",
      "proportion=0.5, degree=1, Training MSE=0.206, Testing MSE=0.281\n",
      "proportion=0.5, degree=3, Training MSE=0.057, Testing MSE=0.088\n",
      "proportion=0.5, degree=7, Training MSE=0.054, Testing MSE=0.081\n",
      "proportion=0.5, degree=12, Training MSE=0.042, Testing MSE=1.131\n",
      "proportion=0.1, degree=1, Training MSE=0.182, Testing MSE=0.285\n",
      "proportion=0.1, degree=3, Training MSE=0.007, Testing MSE=0.211\n",
      "proportion=0.1, degree=7, Training MSE=0.000, Testing MSE=14.976\n",
      "proportion=0.1, degree=12, Training MSE=0.000, Testing MSE=67.033\n"
     ]
    }
   ],
   "source": [
    "seed = 6\n",
    "degrees = [1, 3, 7, 12]\n",
    "split_ratios = [0.9, 0.5, 0.1]\n",
    "\n",
    "for split_ratio in split_ratios:\n",
    "    for degree in degrees:\n",
    "        train_test_split_demo(x_, y_, degree, split_ratio, seed)"
   ]
  },
  {
   "cell_type": "markdown",
   "id": "9a27dbec",
   "metadata": {},
   "source": [
    "### Question 9\n",
    "Do the training and testing MSE make sense for diffrent ratios? Why? Which one is the best? <br>\n",
    "What if instead of having 50 samples you had 5000, which which split might be best? <br>\n",
    "Comment on the high testing MSE for 10% split especially with high degree polynomials"
   ]
  },
  {
   "cell_type": "code",
   "execution_count": 73,
   "id": "5991cf29",
   "metadata": {},
   "outputs": [],
   "source": [
    "# write your answer here"
   ]
  },
  {
   "cell_type": "markdown",
   "id": "6f95a5e0",
   "metadata": {},
   "source": [
    "## Ridge Regression"
   ]
  },
  {
   "cell_type": "markdown",
   "id": "fba09654",
   "metadata": {},
   "source": [
    "The previous exercise shows overfitting when using complex models. Here we will try to correct that by using Ridge Regression. Ridge Regression is very similar to linear regression, the only difference is that we will add to the loss function a regularization term that penalizes high weight values.\n",
    "$$J(\\theta) = \\frac{1}{2N}\n",
    "\\left[\\sum_{i=1}^N \\left(h_\\theta(x^{(i)}) - y^{(i)} \\right)^2 + \\lambda\\sum_{j=1}^D {\\theta_j}^2\\right]$$\n",
    "With $D$ being the number of weights, and $\\lambda>0$ the penalty parameter. <br>\n",
    "Doing that is useful to prevent overfitting when the model used is too complex. <br>\n",
    "It turns out that Ridge Regression also has closed form solution which is the following:\n",
    "$$\\theta^*_{ridge} = \\left(X^T X + \\lambda I\\right)^{-1} X^T y $$\n",
    "Where $I$ is the identity matrix of dimension $D$ <br>\n",
    "In what follows we will be working with polynomials of degree 7 only"
   ]
  },
  {
   "cell_type": "markdown",
   "id": "500047bc",
   "metadata": {},
   "source": [
    "### Question 10\n",
    "complete the function `ridge_regression()` that takes the label y, the feature matrix tx, and the penalty parameter $\\lambda$ to compute the ridge regression solution weights and the corresponding MSE. You can test the function by setting $\\lambda=0$ and check that you should get the same solution as regular multivariate linear regression."
   ]
  },
  {
   "cell_type": "code",
   "execution_count": 74,
   "id": "750b4ffc",
   "metadata": {},
   "outputs": [],
   "source": [
    "def ridge_regression(y, tx, lambda_):\n",
    "    \"\"\"implement ridge regression.\"\"\"\n",
    "    # write your code in between these two lines\n",
    "    # ***************************************************\n",
    "    w = np.linalg.solve((np.dot(tx.T,tx)+lambda_*2*len(y)*np.eye(tx.shape[1])),np.dot(tx.T,y.reshape((-1,1))))\n",
    "    e = y.reshape((-1,1)) - (np.dot(tx, w))\n",
    "    mse = (1/(2*y.shape[0]))*np.dot(e.T, e)\n",
    "    # ***************************************************\n",
    "    return w,mse"
   ]
  },
  {
   "cell_type": "code",
   "execution_count": 75,
   "id": "11812ffb",
   "metadata": {},
   "outputs": [],
   "source": [
    "def test_ridge_regression():\n",
    "    degree = 7\n",
    "    phi = build_poly(x_, degree)\n",
    "    weights, mse = ridge_regression(y_, phi, 0)\n",
    "    print(\"degree={d}, mse={mse}\".format(d=degree, mse=mse))"
   ]
  },
  {
   "cell_type": "code",
   "execution_count": 76,
   "id": "a75b8751",
   "metadata": {},
   "outputs": [
    {
     "name": "stdout",
     "output_type": "stream",
     "text": [
      "degree=7, mse=[[0.06219327]]\n"
     ]
    }
   ],
   "source": [
    "test_ridge_regression()"
   ]
  },
  {
   "cell_type": "markdown",
   "id": "cdecfdbc",
   "metadata": {},
   "source": [
    "The function `plot_train_test()` is used to plot the train and test errors for different values of $\\lambda' = \\frac{\\lambda}{2N}$"
   ]
  },
  {
   "cell_type": "code",
   "execution_count": 77,
   "id": "237ad935",
   "metadata": {},
   "outputs": [],
   "source": [
    "def plot_train_test(train_errors, test_errors, lambdas, degree):\n",
    "    \"\"\"\n",
    "    train_errors, test_errors and lambdas should be list (of the same size) the respective train error and test error for a given lambda,\n",
    "    * lambda[0] = 1\n",
    "    * train_errors[0] = RMSE of a ridge regression on the train set\n",
    "    * test_errors[0] = RMSE of the parameter found by ridge regression applied on the test set\n",
    "    \n",
    "    degree is just used for the title of the plot.\n",
    "    \"\"\"\n",
    "    plt.semilogx(lambdas, train_errors, color='b', marker='*', label=\"Train error\")\n",
    "    plt.semilogx(lambdas, test_errors, color='r', marker='*', label=\"Test error\")\n",
    "    plt.xlabel(\"$\\lambda$'\")\n",
    "    plt.ylabel(\"MSE\")\n",
    "    plt.title(\"Ridge regression for polynomial degree \" + str(degree))\n",
    "    leg = plt.legend(loc=1, shadow=True)\n",
    "    leg.draw_frame(False)\n",
    "    plt.savefig(\"ridge_regression\")"
   ]
  },
  {
   "cell_type": "markdown",
   "id": "debc49b6",
   "metadata": {},
   "source": [
    "### Question 11\n",
    "complete the function `ridge_regression_demo()` to run ridge regression with different values of $\\lambda'$, run the cell below that to test the function and generate the plot, and comment on the generated plot."
   ]
  },
  {
   "cell_type": "code",
   "execution_count": 78,
   "id": "25ecaa11",
   "metadata": {},
   "outputs": [],
   "source": [
    "def ridge_regression_demo(x, y, degree, ratio, seed):\n",
    "    \"\"\"ridge regression demo.\"\"\"\n",
    "    # define parameter\n",
    "    lambdas = np.logspace(-5, 0, 15)\n",
    "    phi = build_poly(x, degree)\n",
    "    train_x, train_y, test_x, test_y = split_data(phi, y, ratio, seed=seed)\n",
    "\n",
    "    mse_tr = []\n",
    "    mse_te = []\n",
    "    for ind, lambda_ in enumerate(lambdas):\n",
    "        # write your code in between these two lines\n",
    "        # ***************************************************\n",
    "        w,Lw = ridge_regression(train_y, train_x, lambda_)\n",
    "        e = test_y.reshape((-1,1)) - (np.dot(test_x, w.reshape((-1,1))))\n",
    "        Lw_te = (1/(2*test_y.shape[0]))*np.dot(e.T, e)\n",
    "        mse_tr.append(Lw[0,0])\n",
    "        mse_te.append(Lw_te[0,0])\n",
    "        # ***************************************************\n",
    "        print(\"proportion={p}, degree={d}, lambda={l:.3f}, Training MSE={tr:.3f}, Testing MSE={te:.3f}\".format(\n",
    "               p=ratio, d=degree, l=lambda_, tr=mse_tr[ind], te=mse_te[ind]))\n",
    "        \n",
    "    # Plot the obtained results\n",
    "    plot_train_test(mse_tr, mse_te, lambdas, degree)"
   ]
  },
  {
   "cell_type": "code",
   "execution_count": 79,
   "id": "24b8b962",
   "metadata": {
    "scrolled": true
   },
   "outputs": [
    {
     "name": "stdout",
     "output_type": "stream",
     "text": [
      "proportion=0.5, degree=7, lambda=0.000, Training MSE=0.026, Testing MSE=0.057\n",
      "proportion=0.5, degree=7, lambda=0.000, Training MSE=0.026, Testing MSE=0.057\n",
      "proportion=0.5, degree=7, lambda=0.000, Training MSE=0.026, Testing MSE=0.057\n",
      "proportion=0.5, degree=7, lambda=0.000, Training MSE=0.026, Testing MSE=0.056\n",
      "proportion=0.5, degree=7, lambda=0.000, Training MSE=0.026, Testing MSE=0.056\n",
      "proportion=0.5, degree=7, lambda=0.001, Training MSE=0.026, Testing MSE=0.055\n",
      "proportion=0.5, degree=7, lambda=0.001, Training MSE=0.026, Testing MSE=0.054\n",
      "proportion=0.5, degree=7, lambda=0.003, Training MSE=0.027, Testing MSE=0.051\n",
      "proportion=0.5, degree=7, lambda=0.007, Training MSE=0.027, Testing MSE=0.046\n",
      "proportion=0.5, degree=7, lambda=0.016, Training MSE=0.028, Testing MSE=0.040\n",
      "proportion=0.5, degree=7, lambda=0.037, Training MSE=0.030, Testing MSE=0.038\n",
      "proportion=0.5, degree=7, lambda=0.085, Training MSE=0.035, Testing MSE=0.044\n",
      "proportion=0.5, degree=7, lambda=0.193, Training MSE=0.042, Testing MSE=0.060\n",
      "proportion=0.5, degree=7, lambda=0.439, Training MSE=0.050, Testing MSE=0.080\n",
      "proportion=0.5, degree=7, lambda=1.000, Training MSE=0.056, Testing MSE=0.097\n"
     ]
    },
    {
     "data": {
      "image/png": "[encoded data removed]",
      "text/plain": [
       "<Figure size 432x288 with 1 Axes>"
      ]
     },
     "metadata": {
      "needs_background": "light"
     },
     "output_type": "display_data"
    }
   ],
   "source": [
    "seed = 56\n",
    "degree = 7\n",
    "split_ratio = 0.5\n",
    "ridge_regression_demo(x, y, degree, split_ratio, seed)"
   ]
  }
 ],
 "metadata": {
  "kernelspec": {
   "display_name": "Python 3 (ipykernel)",
   "language": "python",
   "name": "python3"
  },
  "language_info": {
   "codemirror_mode": {
    "name": "ipython",
    "version": 3
   },
   "file_extension": ".py",
   "mimetype": "text/x-python",
   "name": "python",
   "nbconvert_exporter": "python",
   "pygments_lexer": "ipython3",
   "version": "3.10.2"
  }
 },
 "nbformat": 4,
 "nbformat_minor": 5
}
