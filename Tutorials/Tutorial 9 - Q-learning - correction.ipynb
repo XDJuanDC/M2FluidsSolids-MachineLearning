{
 "cells": [
  {
   "cell_type": "markdown",
   "metadata": {},
   "source": [
    "# Hands-on Lesson 8 - Q-learning\n",
    "The goal of this hands-on lesson is to implement and play with the Q-learning algorithm."
   ]
  },
  {
   "cell_type": "code",
   "execution_count": 1,
   "metadata": {},
   "outputs": [],
   "source": [
    "%matplotlib inline\n",
    "\n",
    "import numpy as np\n",
    "import matplotlib.pyplot as plt"
   ]
  },
  {
   "cell_type": "markdown",
   "metadata": {},
   "source": [
    "## Q-learning algorithm\n",
    "The aim of the Q-learning algorithm is to approach the Q-function, also called the action value function, for the optimal policy $\\pi_*$\n",
    "\n",
    "$$q_{\\pi_*}(s,a) = \\mathbb{E}_{\\pi_*} \\left[ G_t | S_t = s, A_t=a \\right]$$\n",
    "\n",
    "where $G_t$ is the return defined as $G_t = R_{t+1} + \\gamma R_{t+2} + \\gamma^2 R_{t+3} + \\cdots$, with $\\gamma$ the discount factor in the interval [0, 1]. \n",
    "\n",
    "The Q-algorithm is an off-policy algorithm that learns the Q-function with following iteration \n",
    "\n",
    "$$Q(S,A) \\leftarrow Q(S,A)  + \\alpha \\left(R + \\gamma \\max_{a'}Q(S',a')- Q(S,A) \\right)$$\n",
    "\n",
    "where $\\alpha$ is the learning parameter, and $(S,A,R,S')$ is a sequence of state, action, reward, state. "
   ]
  },
  {
   "cell_type": "markdown",
   "metadata": {},
   "source": [
    "## The cliff walking problem\n",
    "\n",
    "The cliff walking problem consists in a grid where a player moves (horizontally or vertically). The initial position is at the bottom left, the final position at the bottom right. All grid points in between are the cliff, the rest is \"safe\". \n",
    "\n",
    "We define an environment class **CliffWalk**, with two main functions:\n",
    "- **render()** that draws the landscape and the position of the agent\n",
    "- **step(action)** that returns the new state of the system, the reward and a logical variable determining if the agent is done"
   ]
  },
  {
   "cell_type": "code",
   "execution_count": 2,
   "metadata": {},
   "outputs": [],
   "source": [
    "class CliffWalk:\n",
    "        \n",
    "    def __init__(self, Nhoriz=8, Nvert=4):\n",
    "        self.Nhoriz = Nhoriz\n",
    "        self.Nvert = Nvert\n",
    "        self.Nstates = Nhoriz * Nvert\n",
    "        self.Nactions = 4\n",
    "        self.player = None\n",
    "        self._create_grid() \n",
    "        print(self.grid)\n",
    "        self.render()\n",
    "        \n",
    "    def _state(self):\n",
    "        ''' Maps a position in x,y coordinates to a unique state scalar '''\n",
    "        return self.player[0] * self.Nhoriz + self.player[1]\n",
    "\n",
    "    def _create_grid(self):\n",
    "        self.grid = - 1 * np.ones((self.Nvert, self.Nhoriz), dtype=int)\n",
    "        self.grid[-1,-1] = 0\n",
    "        self.grid[-1,1:-1] = -10\n",
    "        \n",
    "    def render(self):\n",
    "        fig, ax = plt.subplots(num=1)\n",
    "        im = ax.imshow(self.grid)\n",
    "        ax.set_xticks(np.arange(self.Nhoriz))\n",
    "        ax.set_yticks(np.arange(self.Nvert))\n",
    "        if self.player is not None:\n",
    "            ax.plot(self.player[1], self.player[0] ,'.r')\n",
    "        plt.show()\n",
    "\n",
    "    def reset(self):\n",
    "        self.player = (self.Nvert-1,0)\n",
    "        return self._state()\n",
    "    \n",
    "    def step(self, action):\n",
    "        # Possible actions\n",
    "        if action == 0 and self.player[0] > 0: # UP\n",
    "            self.player = (self.player[0] - 1, self.player[1])\n",
    "        if action == 1 and self.player[0] < self.Nvert-1: # DOWN\n",
    "            self.player = (self.player[0] + 1, self.player[1])\n",
    "        if action == 2 and self.player[1] < self.Nhoriz-1: # RIGHT\n",
    "            self.player = (self.player[0], self.player[1] + 1)\n",
    "        if action == 3 and self.player[1] > 0:  # LEFT\n",
    "            self.player = (self.player[0], self.player[1] - 1)\n",
    "            \n",
    "        # Reward\n",
    "        reward = self.grid[self.player]\n",
    "        if reward == -1:\n",
    "            done = False\n",
    "        else:\n",
    "            done = True\n",
    "            \n",
    "        return self._state(), reward, done"
   ]
  },
  {
   "cell_type": "markdown",
   "metadata": {},
   "source": [
    "First, familiarize yourself with the environment"
   ]
  },
  {
   "cell_type": "code",
   "execution_count": 3,
   "metadata": {},
   "outputs": [
    {
     "name": "stdout",
     "output_type": "stream",
     "text": [
      "[[ -1  -1  -1  -1  -1  -1  -1  -1]\n",
      " [ -1  -1  -1  -1  -1  -1  -1  -1]\n",
      " [ -1  -1  -1  -1  -1  -1  -1  -1]\n",
      " [ -1 -10 -10 -10 -10 -10 -10   0]]\n"
     ]
    },
    {
     "data": {
      "image/png": "[encoded data removed]",
      "text/plain": [
       "<Figure size 432x288 with 1 Axes>"
      ]
     },
     "metadata": {
      "needs_background": "light"
     },
     "output_type": "display_data"
    }
   ],
   "source": [
    "env = CliffWalk()"
   ]
  },
  {
   "cell_type": "markdown",
   "metadata": {},
   "source": [
    "Now let's add an agent"
   ]
  },
  {
   "cell_type": "code",
   "execution_count": 4,
   "metadata": {},
   "outputs": [
    {
     "data": {
      "image/png": "[encoded data removed]",
      "text/plain": [
       "<Figure size 432x288 with 1 Axes>"
      ]
     },
     "metadata": {
      "needs_background": "light"
     },
     "output_type": "display_data"
    }
   ],
   "source": [
    "state = env.reset()\n",
    "env.render()"
   ]
  },
  {
   "cell_type": "markdown",
   "metadata": {},
   "source": [
    "And let's make it move."
   ]
  },
  {
   "cell_type": "code",
   "execution_count": 6,
   "metadata": {},
   "outputs": [
    {
     "name": "stdout",
     "output_type": "stream",
     "text": [
      "8 1 -1 24 False\n"
     ]
    },
    {
     "data": {
      "image/png": "[encoded data removed]",
      "text/plain": [
       "<Figure size 432x288 with 1 Axes>"
      ]
     },
     "metadata": {
      "needs_background": "light"
     },
     "output_type": "display_data"
    },
    {
     "name": "stdout",
     "output_type": "stream",
     "text": [
      "24 0 -1 16 False\n"
     ]
    },
    {
     "data": {
      "image/png": "[encoded data removed]",
      "text/plain": [
       "<Figure size 432x288 with 1 Axes>"
      ]
     },
     "metadata": {
      "needs_background": "light"
     },
     "output_type": "display_data"
    },
    {
     "name": "stdout",
     "output_type": "stream",
     "text": [
      "16 1 -1 24 False\n"
     ]
    },
    {
     "data": {
      "image/png": "[encoded data removed]",
      "text/plain": [
       "<Figure size 432x288 with 1 Axes>"
      ]
     },
     "metadata": {
      "needs_background": "light"
     },
     "output_type": "display_data"
    },
    {
     "name": "stdout",
     "output_type": "stream",
     "text": [
      "24 3 -1 24 False\n"
     ]
    },
    {
     "data": {
      "image/png": "[encoded data removed]",
      "text/plain": [
       "<Figure size 432x288 with 1 Axes>"
      ]
     },
     "metadata": {
      "needs_background": "light"
     },
     "output_type": "display_data"
    },
    {
     "name": "stdout",
     "output_type": "stream",
     "text": [
      "24 3 -1 24 False\n"
     ]
    },
    {
     "data": {
      "image/png": "[encoded data removed]",
      "text/plain": [
       "<Figure size 432x288 with 1 Axes>"
      ]
     },
     "metadata": {
      "needs_background": "light"
     },
     "output_type": "display_data"
    },
    {
     "name": "stdout",
     "output_type": "stream",
     "text": [
      "24 0 -1 16 False\n"
     ]
    },
    {
     "data": {
      "image/png": "[encoded data removed]",
      "text/plain": [
       "<Figure size 432x288 with 1 Axes>"
      ]
     },
     "metadata": {
      "needs_background": "light"
     },
     "output_type": "display_data"
    },
    {
     "name": "stdout",
     "output_type": "stream",
     "text": [
      "16 2 -1 17 False\n"
     ]
    },
    {
     "data": {
      "image/png": "[encoded data removed]",
      "text/plain": [
       "<Figure size 432x288 with 1 Axes>"
      ]
     },
     "metadata": {
      "needs_background": "light"
     },
     "output_type": "display_data"
    },
    {
     "name": "stdout",
     "output_type": "stream",
     "text": [
      "17 2 -1 18 False\n"
     ]
    },
    {
     "data": {
      "image/png": "[encoded data removed]",
      "text/plain": [
       "<Figure size 432x288 with 1 Axes>"
      ]
     },
     "metadata": {
      "needs_background": "light"
     },
     "output_type": "display_data"
    },
    {
     "name": "stdout",
     "output_type": "stream",
     "text": [
      "18 2 -1 19 False\n"
     ]
    },
    {
     "data": {
      "image/png": "[encoded data removed]",
      "text/plain": [
       "<Figure size 432x288 with 1 Axes>"
      ]
     },
     "metadata": {
      "needs_background": "light"
     },
     "output_type": "display_data"
    },
    {
     "name": "stdout",
     "output_type": "stream",
     "text": [
      "19 1 -10 27 True\n"
     ]
    },
    {
     "data": {
      "image/png": "[encoded data removed]",
      "text/plain": [
       "<Figure size 432x288 with 1 Axes>"
      ]
     },
     "metadata": {
      "needs_background": "light"
     },
     "output_type": "display_data"
    }
   ],
   "source": [
    "env.reset()\n",
    "for _ in range(10):\n",
    "    action = np.random.randint(env.Nactions)\n",
    "    next_state, reward, done = env.step(action)\n",
    "    print(state, action, reward, next_state, done)\n",
    "    state = next_state\n",
    "    env.render()"
   ]
  },
  {
   "cell_type": "markdown",
   "metadata": {},
   "source": [
    "## Q_learning\n",
    "\n",
    "Let's implement the Q-learning algorithm. \n",
    "\n",
    "An important aspect is to choose how the policy will explore the state space. Below, we implement an $e$-greedy policy: with probability $e$, a random action is chosen; with probability $(1-e)$, the optimal action is chosen (the one that maximizes $Q(s,a)$ over all possible $a$'s). "
   ]
  },
  {
   "cell_type": "code",
   "execution_count": 7,
   "metadata": {},
   "outputs": [
    {
     "name": "stdout",
     "output_type": "stream",
     "text": [
      "[[ -1  -1  -1  -1  -1  -1  -1  -1]\n",
      " [ -1  -1  -1  -1  -1  -1  -1  -1]\n",
      " [ -1  -1  -1  -1  -1  -1  -1  -1]\n",
      " [ -1 -10 -10 -10 -10 -10 -10   0]]\n"
     ]
    },
    {
     "data": {
      "image/png": "[encoded data removed]",
      "text/plain": [
       "<Figure size 432x288 with 1 Axes>"
      ]
     },
     "metadata": {
      "needs_background": "light"
     },
     "output_type": "display_data"
    },
    {
     "name": "stdout",
     "output_type": "stream",
     "text": [
      "[[-4.97831155 -5.01827416 -4.97107905 -4.98344367]\n",
      " [-4.78590761 -4.7565104  -4.76375138 -4.79783646]\n",
      " [-4.4028696  -4.44574869 -4.40130447 -4.51195526]\n",
      " [-3.99919364 -4.0083353  -3.98044967 -4.03893827]\n",
      " [-3.49650321 -3.51839539 -3.50729858 -3.5379393 ]\n",
      " [-3.00111006 -3.02429046 -2.99304422 -2.99413507]\n",
      " [-2.44200852 -2.39203814 -2.40617847 -2.53049251]\n",
      " [-1.81342    -1.7987728  -1.81974341 -1.88823221]\n",
      " [-5.16415666 -5.19404429 -5.15961975 -5.17958284]\n",
      " [-4.9320458  -4.938264   -4.93682232 -4.94174783]\n",
      " [-4.49197215 -4.50896305 -4.48812084 -4.57183625]\n",
      " [-4.00604    -3.98165349 -3.97652846 -4.01336227]\n",
      " [-3.4886241  -3.38469874 -3.38558804 -3.4291478 ]\n",
      " [-2.91659803 -2.68921195 -2.68869839 -2.98345139]\n",
      " [-1.94944794 -1.89467409 -1.89428657 -2.18303572]\n",
      " [-1.11253229 -0.99998432 -1.04425878 -1.60064553]\n",
      " [-5.4691127  -6.03417306 -5.217031   -5.63857049]\n",
      " [-5.31647834 -9.20233557 -4.68559    -5.487355  ]\n",
      " [-4.75731748 -9.20233557 -4.0951     -5.08079835]\n",
      " [-4.28246749 -9.72187161 -3.439      -4.54541805]\n",
      " [-3.88038953 -9.52898713 -2.71       -3.79661466]\n",
      " [-3.2409225  -9.20233557 -1.9        -3.24243365]\n",
      " [-2.49215777 -9.0152291  -1.         -2.58462399]\n",
      " [-1.79486057  0.         -0.84990536 -1.57980315]\n",
      " [-5.6953279  -6.08418498 -9.88027485 -6.06243712]\n",
      " [ 0.          0.          0.          0.        ]\n",
      " [ 0.          0.          0.          0.        ]\n",
      " [ 0.          0.          0.          0.        ]\n",
      " [ 0.          0.          0.          0.        ]\n",
      " [ 0.          0.          0.          0.        ]\n",
      " [ 0.          0.          0.          0.        ]\n",
      " [ 0.          0.          0.          0.        ]]\n"
     ]
    }
   ],
   "source": [
    "# LEARNING PARAMETERS\n",
    "Nepisodes = 1000\n",
    "exploration_rate = 0.1  # e\n",
    "learning_rate = 0.1     # alpha\n",
    "discount_factor = 0.9   # gamma \n",
    "   \n",
    "# INITIALISATION    \n",
    "env = CliffWalk()\n",
    "q_values = np.zeros((env.Nstates, env.Nactions))\n",
    "\n",
    "# Loop for episodes\n",
    "for _ in range(Nepisodes):\n",
    "    state = env.reset()    \n",
    "    done = False\n",
    "    \n",
    "    # Loop for steps within an episode\n",
    "    while not done:            \n",
    "        # Choose action (e-greedy policy)  \n",
    "        if np.random.random() > exploration_rate:\n",
    "            action = np.argmax(q_values[state])\n",
    "        else:\n",
    "            action = np.random.choice(env.Nactions)\n",
    "        # Do the action\n",
    "        next_state, reward, done = env.step(action)\n",
    "        # Update q_values       \n",
    "        target = reward + discount_factor * np.max(q_values[next_state])\n",
    "        error = target - q_values[state][action]\n",
    "        q_values[state][action] += learning_rate * error\n",
    "        # Update state\n",
    "        state = next_state\n",
    "\n",
    "print(q_values)"
   ]
  },
  {
   "cell_type": "markdown",
   "metadata": {},
   "source": [
    "Once the Q-function is learn, we can observe the optimal policy"
   ]
  },
  {
   "cell_type": "code",
   "execution_count": 10,
   "metadata": {},
   "outputs": [
    {
     "name": "stdout",
     "output_type": "stream",
     "text": [
      "SARS: 24 0 -1 16\n"
     ]
    },
    {
     "data": {
      "image/png": "[encoded data removed]",
      "text/plain": [
       "<Figure size 432x288 with 1 Axes>"
      ]
     },
     "metadata": {
      "needs_background": "light"
     },
     "output_type": "display_data"
    },
    {
     "name": "stdout",
     "output_type": "stream",
     "text": [
      "SARS: 16 2 -1 17\n"
     ]
    },
    {
     "data": {
      "image/png": "[encoded data removed]",
      "text/plain": [
       "<Figure size 432x288 with 1 Axes>"
      ]
     },
     "metadata": {
      "needs_background": "light"
     },
     "output_type": "display_data"
    },
    {
     "name": "stdout",
     "output_type": "stream",
     "text": [
      "SARS: 17 2 -1 18\n"
     ]
    },
    {
     "data": {
      "image/png": "[encoded data removed]",
      "text/plain": [
       "<Figure size 432x288 with 1 Axes>"
      ]
     },
     "metadata": {
      "needs_background": "light"
     },
     "output_type": "display_data"
    },
    {
     "name": "stdout",
     "output_type": "stream",
     "text": [
      "SARS: 18 2 -1 19\n"
     ]
    },
    {
     "data": {
      "image/png": "[encoded data removed]",
      "text/plain": [
       "<Figure size 432x288 with 1 Axes>"
      ]
     },
     "metadata": {
      "needs_background": "light"
     },
     "output_type": "display_data"
    },
    {
     "name": "stdout",
     "output_type": "stream",
     "text": [
      "SARS: 19 2 -1 20\n"
     ]
    },
    {
     "data": {
      "image/png": "[encoded data removed]",
      "text/plain": [
       "<Figure size 432x288 with 1 Axes>"
      ]
     },
     "metadata": {
      "needs_background": "light"
     },
     "output_type": "display_data"
    },
    {
     "name": "stdout",
     "output_type": "stream",
     "text": [
      "SARS: 20 2 -1 21\n"
     ]
    },
    {
     "data": {
      "image/png": "[encoded data removed]",
      "text/plain": [
       "<Figure size 432x288 with 1 Axes>"
      ]
     },
     "metadata": {
      "needs_background": "light"
     },
     "output_type": "display_data"
    },
    {
     "name": "stdout",
     "output_type": "stream",
     "text": [
      "SARS: 21 2 -1 22\n"
     ]
    },
    {
     "data": {
      "image/png": "[encoded data removed]",
      "text/plain": [
       "<Figure size 432x288 with 1 Axes>"
      ]
     },
     "metadata": {
      "needs_background": "light"
     },
     "output_type": "display_data"
    },
    {
     "name": "stdout",
     "output_type": "stream",
     "text": [
      "SARS: 22 2 -1 23\n"
     ]
    },
    {
     "data": {
      "image/png": "[encoded data removed]",
      "text/plain": [
       "<Figure size 432x288 with 1 Axes>"
      ]
     },
     "metadata": {
      "needs_background": "light"
     },
     "output_type": "display_data"
    },
    {
     "name": "stdout",
     "output_type": "stream",
     "text": [
      "SARS: 23 1 0 31\n"
     ]
    },
    {
     "data": {
      "image/png": "[encoded data removed]",
      "text/plain": [
       "<Figure size 432x288 with 1 Axes>"
      ]
     },
     "metadata": {
      "needs_background": "light"
     },
     "output_type": "display_data"
    }
   ],
   "source": [
    "max_steps = 15\n",
    "state = env.reset()    \n",
    "done = False\n",
    "t = 0\n",
    "\n",
    "# Loop for steps within an episode\n",
    "while (not done) & (t < max_steps):\n",
    "    t += 1\n",
    "    # Choose action (greedy pokicy)  \n",
    "    action = np.argmax(q_values[state])\n",
    "    # Do the action\n",
    "    next_state, reward, done = env.step(action)\n",
    "    print('SARS:', state, action, reward, next_state)\n",
    "    # Update state\n",
    "    state = next_state\n",
    "    # plot\n",
    "    env.render()"
   ]
  },
  {
   "cell_type": "markdown",
   "metadata": {},
   "source": [
    "**EXERCISE:** To assess the quality of control, we want to plot the return for each episode as the algorithm advances. "
   ]
  },
  {
   "cell_type": "code",
   "execution_count": 12,
   "metadata": {},
   "outputs": [
    {
     "name": "stdout",
     "output_type": "stream",
     "text": [
      "[[ -1  -1  -1  -1  -1  -1  -1  -1]\n",
      " [ -1  -1  -1  -1  -1  -1  -1  -1]\n",
      " [ -1  -1  -1  -1  -1  -1  -1  -1]\n",
      " [ -1 -10 -10 -10 -10 -10 -10   0]]\n"
     ]
    },
    {
     "data": {
      "image/png": "[encoded data removed]",
      "text/plain": [
       "<Figure size 432x288 with 1 Axes>"
      ]
     },
     "metadata": {
      "needs_background": "light"
     },
     "output_type": "display_data"
    },
    {
     "data": {
      "text/plain": [
       "[<matplotlib.lines.Line2D at 0x114e33b70>]"
      ]
     },
     "execution_count": 12,
     "metadata": {},
     "output_type": "execute_result"
    },
    {
     "data": {
      "image/png": "[encoded data removed]",
      "text/plain": [
       "<Figure size 432x288 with 1 Axes>"
      ]
     },
     "metadata": {
      "needs_background": "light"
     },
     "output_type": "display_data"
    }
   ],
   "source": [
    "# LEARNING PARAMETERS\n",
    "Nepisodes = 1000\n",
    "exploration_rate = 0.1  # e\n",
    "learning_rate = 0.1     # alpha\n",
    "discount_factor = 0.9   # gamma \n",
    "   \n",
    "# INITIALISATION    \n",
    "env = CliffWalk()\n",
    "q_values = np.zeros((env.Nstates, env.Nactions))\n",
    "returns = np.zeros(Nepisodes)\n",
    "\n",
    "# Loop for episodes\n",
    "for nepisode in range(Nepisodes):\n",
    "    state = env.reset()    \n",
    "    done = False\n",
    "    reward_sum = 0\n",
    "    \n",
    "    # Loop for steps within an episode\n",
    "    while not done:            \n",
    "        # Choose action (e-greedy policy)  \n",
    "        if np.random.random() > exploration_rate:\n",
    "            action = np.argmax(q_values[state])\n",
    "        else:\n",
    "            action = np.random.choice(env.Nactions)\n",
    "        # Do the action\n",
    "        next_state, reward, done = env.step(action)\n",
    "        reward_sum += reward\n",
    "        # Update q_values       \n",
    "        target = reward + discount_factor * np.max(q_values[next_state])\n",
    "        error = target - q_values[state][action]\n",
    "        q_values[state][action] += learning_rate * error\n",
    "        # Update state\n",
    "        state = next_state\n",
    "\n",
    "    returns[nepisode] = reward_sum\n",
    "\n",
    "plt.plot(returns)"
   ]
  },
  {
   "cell_type": "markdown",
   "metadata": {},
   "source": [
    "**EXERCISE:** We now want to explore alternative policies. One of them is a Boltzmann exploration (or soft-max): the action is chosen with a probability\n",
    "\n",
    "$$p(a;s) = \\frac{\\exp(Q(s,a)/\\tau)}{\\sum_{a'}\\exp(Q(s,a')/\\tau) } $$\n",
    "\n",
    "where $\\tau$ is a \"temperature\". \n",
    "\n",
    "Indentify the role of $\\tau$ in terms of exploration-exploitation. Implement this policy and compare its performance with an e-greedy policy."
   ]
  },
  {
   "cell_type": "code",
   "execution_count": 23,
   "metadata": {},
   "outputs": [
    {
     "name": "stdout",
     "output_type": "stream",
     "text": [
      "[[ -1  -1  -1  -1  -1  -1  -1  -1]\n",
      " [ -1  -1  -1  -1  -1  -1  -1  -1]\n",
      " [ -1  -1  -1  -1  -1  -1  -1  -1]\n",
      " [ -1 -10 -10 -10 -10 -10 -10   0]]\n"
     ]
    },
    {
     "data": {
      "image/png": "[encoded data removed]",
      "text/plain": [
       "<Figure size 432x288 with 1 Axes>"
      ]
     },
     "metadata": {
      "needs_background": "light"
     },
     "output_type": "display_data"
    },
    {
     "name": "stdout",
     "output_type": "stream",
     "text": [
      "[[-4.72186384 -4.73244438 -4.73362915 -4.72386775]\n",
      " [-4.45465775 -4.46700392 -4.47617743 -4.51299083]\n",
      " [-4.11591694 -4.14107198 -4.12341192 -4.14391653]\n",
      " [-3.7529475  -3.71315839 -3.71340018 -3.76604297]\n",
      " [-3.23336059 -3.24880659 -3.23414298 -3.30486006]\n",
      " [-2.74425326 -2.73057197 -2.743403   -2.77836893]\n",
      " [-2.21286508 -2.19669719 -2.22323734 -2.28451411]\n",
      " [-1.73510506 -1.7093798  -1.73592255 -1.74861495]\n",
      " [-4.93630265 -4.972429   -4.91498323 -4.933769  ]\n",
      " [-4.58178677 -4.57003175 -4.57564922 -4.62132624]\n",
      " [-4.14019137 -4.19816969 -4.1597346  -4.16675805]\n",
      " [-3.70910509 -3.70135768 -3.65917509 -3.75166056]\n",
      " [-3.08741132 -3.13895265 -3.09052891 -3.19265994]\n",
      " [-2.5095997  -2.51616959 -2.47567416 -2.5076804 ]\n",
      " [-1.86237234 -1.77831351 -1.78453435 -1.90565763]\n",
      " [-1.10720191 -0.99293035 -1.04003414 -1.03298194]\n",
      " [-5.2786988  -5.35353304 -5.217031   -5.31489868]\n",
      " [-4.77071099 -5.217031   -4.68559    -4.83488249]\n",
      " [-4.19868431 -4.68559    -4.0951     -4.22956966]\n",
      " [-3.57473046 -4.0951     -3.439      -3.56379181]\n",
      " [-2.78434461 -3.439      -2.71       -2.81775159]\n",
      " [-2.08161696 -2.71       -1.9        -1.96951042]\n",
      " [-1.08205051 -1.9        -1.         -1.10116733]\n",
      " [-0.1         0.         -0.1        -0.1283764 ]\n",
      " [-5.6953279  -5.79646461 -6.12579511 -5.79221979]\n",
      " [ 0.          0.          0.          0.        ]\n",
      " [ 0.          0.          0.          0.        ]\n",
      " [ 0.          0.          0.          0.        ]\n",
      " [ 0.          0.          0.          0.        ]\n",
      " [ 0.          0.          0.          0.        ]\n",
      " [ 0.          0.          0.          0.        ]\n",
      " [ 0.          0.          0.          0.        ]]\n"
     ]
    },
    {
     "data": {
      "image/png": "[encoded data removed]",
      "text/plain": [
       "<Figure size 432x288 with 1 Axes>"
      ]
     },
     "metadata": {
      "needs_background": "light"
     },
     "output_type": "display_data"
    }
   ],
   "source": [
    "# LEARNING PARAMETERS\n",
    "Nepisodes = 1000\n",
    "temperature = 0.01  # temperature\n",
    "learning_rate = 0.1     # alpha\n",
    "discount_factor = 0.9   # gamma \n",
    "   \n",
    "# INITIALISATION    \n",
    "env = CliffWalk()\n",
    "q_values = np.zeros((env.Nstates, env.Nactions))\n",
    "returns = np.zeros(Nepisodes)\n",
    "\n",
    "# Loop for episodes\n",
    "for nepisode in range(Nepisodes):\n",
    "    state = env.reset()    \n",
    "    done = False\n",
    "    reward_sum = 0\n",
    "    \n",
    "    # Loop for steps within an episode\n",
    "    while not done:            \n",
    "        # Choose action (soft-max)\n",
    "        probability = np.exp(q_values[state] / temperature)\n",
    "        probability /= np.sum(probability)\n",
    "        action = np.random.choice(env.Nactions, p=probability)           \n",
    "        # Do the action\n",
    "        next_state, reward, done = env.step(action)\n",
    "        reward_sum += reward\n",
    "        # Update q_values       \n",
    "        target = reward + discount_factor * np.max(q_values[next_state])\n",
    "        error = target - q_values[state][action]\n",
    "        q_values[state][action] += learning_rate * error\n",
    "        # Update state\n",
    "        state = next_state\n",
    "\n",
    "    returns[nepisode] = reward_sum\n",
    "\n",
    "plt.plot(returns)\n",
    "print(q_values)"
   ]
  },
  {
   "cell_type": "markdown",
   "metadata": {},
   "source": [
    "**EXERCISE:** Usually the control is moved toward more exploitation / less exploration as time advances. This is done by changing the exploration rate (the $e$ in the $e$-greedy policy) or the temperature (for the Boltzmann policy) over time. Show that this helps to converge towards the optimal policy."
   ]
  },
  {
   "cell_type": "code",
   "execution_count": 20,
   "metadata": {},
   "outputs": [
    {
     "name": "stdout",
     "output_type": "stream",
     "text": [
      "0.995405417351527\n"
     ]
    }
   ],
   "source": [
    "Constant=0.01**(1/1000)\n",
    "print(Constant)"
   ]
  },
  {
   "cell_type": "code",
   "execution_count": 30,
   "metadata": {},
   "outputs": [
    {
     "name": "stdout",
     "output_type": "stream",
     "text": [
      "[[ -1  -1  -1  -1  -1  -1  -1  -1]\n",
      " [ -1  -1  -1  -1  -1  -1  -1  -1]\n",
      " [ -1  -1  -1  -1  -1  -1  -1  -1]\n",
      " [ -1 -10 -10 -10 -10 -10 -10   0]]\n"
     ]
    },
    {
     "data": {
      "image/png": "[encoded data removed]",
      "text/plain": [
       "<Figure size 432x288 with 1 Axes>"
      ]
     },
     "metadata": {
      "needs_background": "light"
     },
     "output_type": "display_data"
    },
    {
     "data": {
      "text/plain": [
       "[<matplotlib.lines.Line2D at 0x12d1e7cc0>]"
      ]
     },
     "execution_count": 30,
     "metadata": {},
     "output_type": "execute_result"
    },
    {
     "data": {
      "image/png": "[encoded data removed]",
      "text/plain": [
       "<Figure size 432x288 with 1 Axes>"
      ]
     },
     "metadata": {
      "needs_background": "light"
     },
     "output_type": "display_data"
    }
   ],
   "source": [
    "# LEARNING PARAMETERS\n",
    "Nepisodes = 1000\n",
    "temperature = 1.        # temperature\n",
    "learning_rate = 0.1     # alpha\n",
    "discount_factor = 0.9   # gamma \n",
    "   \n",
    "# INITIALISATION    \n",
    "env = CliffWalk()\n",
    "q_values = np.zeros((env.Nstates, env.Nactions))\n",
    "returns = np.zeros(Nepisodes)\n",
    "\n",
    "# Loop for episodes\n",
    "for nepisode in range(Nepisodes):\n",
    "    state = env.reset()    \n",
    "    done = False\n",
    "    reward_sum = 0\n",
    "    temperature *= 0.9954\n",
    "    \n",
    "    # Loop for steps within an episode\n",
    "    while not done:            \n",
    "        # Choose action (soft-max)\n",
    "        probability = np.exp(q_values[state] / temperature)\n",
    "        probability /= np.sum(probability)\n",
    "        action = np.random.choice(env.Nactions, p=probability)           \n",
    "        # Do the action\n",
    "        next_state, reward, done = env.step(action)\n",
    "        reward_sum += reward\n",
    "        # Update q_values       \n",
    "        target = reward + discount_factor * np.max(q_values[next_state])\n",
    "        error = target - q_values[state][action]\n",
    "        q_values[state][action] += learning_rate * error\n",
    "        # Update state\n",
    "        state = next_state\n",
    "\n",
    "    returns[nepisode] = reward_sum\n",
    "\n",
    "plt.plot(returns)"
   ]
  },
  {
   "cell_type": "markdown",
   "metadata": {},
   "source": [
    "## Adding some stochasticity \n",
    "\n",
    "Now the environment is no longer deterministic. We imagine there are wind gusts, and with a certain probability, the agent may be moved downwards instead of the chosen action"
   ]
  },
  {
   "cell_type": "code",
   "execution_count": 40,
   "metadata": {},
   "outputs": [],
   "source": [
    "class CliffWalkStochastic:      \n",
    "    def __init__(self, Nhoriz=8, Nvert=4):\n",
    "        self.Nhoriz = Nhoriz\n",
    "        self.Nvert = Nvert\n",
    "        self.Nstates = Nhoriz * Nvert\n",
    "        self.Nactions = 4\n",
    "        self.player = None\n",
    "        self._create_grid() \n",
    "        print(self.grid)\n",
    "        self.render()\n",
    "        \n",
    "    def _state(self):\n",
    "        ''' Maps a position in x,y coordinates to a unique state scalar '''\n",
    "        return self.player[0] * self.Nhoriz + self.player[1]\n",
    "\n",
    "    def _create_grid(self):\n",
    "        self.grid = - 1 * np.ones((self.Nvert, self.Nhoriz), dtype=int)\n",
    "        self.grid[-1,-1] = 0\n",
    "        self.grid[-1,1:-1] = -10\n",
    "        \n",
    "    def render(self):\n",
    "        fig, ax = plt.subplots(num=1)\n",
    "        im = ax.imshow(self.grid)\n",
    "        ax.set_xticks(np.arange(self.Nhoriz))\n",
    "        ax.set_yticks(np.arange(self.Nvert))\n",
    "        if self.player is not None:\n",
    "            ax.plot(self.player[1], self.player[0] ,'.r')\n",
    "        plt.show()\n",
    "\n",
    "    def reset(self):\n",
    "        self.player = (self.Nvert-1,0)\n",
    "        return self._state()   \n",
    "\n",
    "    def step(self, action):\n",
    "        if np.random.random() < 0.2:  # These are the 2 new lines of code\n",
    "            action = 1                #\n",
    "        # Possible actions\n",
    "        if action == 0 and self.player[0] > 0: # UP\n",
    "            self.player = (self.player[0] - 1, self.player[1])\n",
    "        if action == 1 and self.player[0] < self.Nvert-1: # DOWN\n",
    "            self.player = (self.player[0] + 1, self.player[1])\n",
    "        if action == 2 and self.player[1] < self.Nhoriz-1: # RIGHT\n",
    "            self.player = (self.player[0], self.player[1] + 1)\n",
    "        if action == 3 and self.player[1] > 0:  # LEFT\n",
    "            self.player = (self.player[0], self.player[1] - 1)\n",
    "            \n",
    "        # Reward\n",
    "        reward = self.grid[self.player]\n",
    "        if reward == -1:\n",
    "            done = False\n",
    "        else:\n",
    "            done = True\n",
    "            \n",
    "        return self._state(), reward, done"
   ]
  },
  {
   "cell_type": "markdown",
   "metadata": {},
   "source": [
    "**EXERCISE:** See how this stochastic wind affects the optimal policy. "
   ]
  },
  {
   "cell_type": "code",
   "execution_count": 38,
   "metadata": {},
   "outputs": [
    {
     "name": "stdout",
     "output_type": "stream",
     "text": [
      "[[ -1  -1  -1  -1  -1  -1  -1  -1]\n",
      " [ -1  -1  -1  -1  -1  -1  -1  -1]\n",
      " [ -1  -1  -1  -1  -1  -1  -1  -1]\n",
      " [ -1 -10 -10 -10 -10 -10 -10   0]]\n"
     ]
    },
    {
     "data": {
      "image/png": "[encoded data removed]",
      "text/plain": [
       "<Figure size 432x288 with 1 Axes>"
      ]
     },
     "metadata": {
      "needs_background": "light"
     },
     "output_type": "display_data"
    },
    {
     "data": {
      "text/plain": [
       "[<matplotlib.lines.Line2D at 0x114f96a58>]"
      ]
     },
     "execution_count": 38,
     "metadata": {},
     "output_type": "execute_result"
    },
    {
     "data": {
      "image/png": "[encoded data removed]",
      "text/plain": [
       "<Figure size 432x288 with 1 Axes>"
      ]
     },
     "metadata": {
      "needs_background": "light"
     },
     "output_type": "display_data"
    }
   ],
   "source": [
    "# LEARNING PARAMETERS\n",
    "Nepisodes = 3000\n",
    "temperature = 1        # temperature\n",
    "learning_rate = 0.03     # alpha\n",
    "discount_factor = 0.9   # gamma \n",
    "   \n",
    "# INITIALISATION    \n",
    "env = CliffWalkStochastic()\n",
    "q_values = np.zeros((env.Nstates, env.Nactions))\n",
    "returns = np.zeros(Nepisodes)\n",
    "\n",
    "# Loop for episodes\n",
    "for nepisode in range(Nepisodes):\n",
    "    state = env.reset()    \n",
    "    done = False\n",
    "    reward_sum = 0\n",
    "    temperature *= 0.999\n",
    "    \n",
    "    # Loop for steps within an episode\n",
    "    while not done:            \n",
    "        # Choose action (soft-max)\n",
    "        probability = np.exp(q_values[state] / temperature)\n",
    "        probability /= np.sum(probability)\n",
    "        action = np.random.choice(env.Nactions, p=probability)           \n",
    "        # Do the action\n",
    "        next_state, reward, done = env.step(action)\n",
    "        reward_sum += reward\n",
    "        # Update q_values       \n",
    "        target = reward + discount_factor * np.max(q_values[next_state])\n",
    "        error = target - q_values[state][action]\n",
    "        q_values[state][action] += learning_rate * error\n",
    "        # Update state\n",
    "        state = next_state\n",
    "\n",
    "    returns[nepisode] = reward_sum\n",
    "\n",
    "plt.plot(returns)"
   ]
  },
  {
   "cell_type": "code",
   "execution_count": 41,
   "metadata": {},
   "outputs": [
    {
     "name": "stdout",
     "output_type": "stream",
     "text": [
      "SARS: 24 0 -1 24\n"
     ]
    },
    {
     "data": {
      "image/png": "[encoded data removed]",
      "text/plain": [
       "<Figure size 432x288 with 1 Axes>"
      ]
     },
     "metadata": {
      "needs_background": "light"
     },
     "output_type": "display_data"
    },
    {
     "name": "stdout",
     "output_type": "stream",
     "text": [
      "SARS: 24 0 -1 16\n"
     ]
    },
    {
     "data": {
      "image/png": "[encoded data removed]",
      "text/plain": [
       "<Figure size 432x288 with 1 Axes>"
      ]
     },
     "metadata": {
      "needs_background": "light"
     },
     "output_type": "display_data"
    },
    {
     "name": "stdout",
     "output_type": "stream",
     "text": [
      "SARS: 16 0 -1 8\n"
     ]
    },
    {
     "data": {
      "image/png": "[encoded data removed]",
      "text/plain": [
       "<Figure size 432x288 with 1 Axes>"
      ]
     },
     "metadata": {
      "needs_background": "light"
     },
     "output_type": "display_data"
    },
    {
     "name": "stdout",
     "output_type": "stream",
     "text": [
      "SARS: 8 2 -1 9\n"
     ]
    },
    {
     "data": {
      "image/png": "[encoded data removed]",
      "text/plain": [
       "<Figure size 432x288 with 1 Axes>"
      ]
     },
     "metadata": {
      "needs_background": "light"
     },
     "output_type": "display_data"
    },
    {
     "name": "stdout",
     "output_type": "stream",
     "text": [
      "SARS: 9 2 -1 10\n"
     ]
    },
    {
     "data": {
      "image/png": "[encoded data removed]",
      "text/plain": [
       "<Figure size 432x288 with 1 Axes>"
      ]
     },
     "metadata": {
      "needs_background": "light"
     },
     "output_type": "display_data"
    },
    {
     "name": "stdout",
     "output_type": "stream",
     "text": [
      "SARS: 10 0 -1 2\n"
     ]
    },
    {
     "data": {
      "image/png": "[encoded data removed]",
      "text/plain": [
       "<Figure size 432x288 with 1 Axes>"
      ]
     },
     "metadata": {
      "needs_background": "light"
     },
     "output_type": "display_data"
    },
    {
     "name": "stdout",
     "output_type": "stream",
     "text": [
      "SARS: 2 2 -1 3\n"
     ]
    },
    {
     "data": {
      "image/png": "[encoded data removed]",
      "text/plain": [
       "<Figure size 432x288 with 1 Axes>"
      ]
     },
     "metadata": {
      "needs_background": "light"
     },
     "output_type": "display_data"
    },
    {
     "name": "stdout",
     "output_type": "stream",
     "text": [
      "SARS: 3 2 -1 4\n"
     ]
    },
    {
     "data": {
      "image/png": "[encoded data removed]",
      "text/plain": [
       "<Figure size 432x288 with 1 Axes>"
      ]
     },
     "metadata": {
      "needs_background": "light"
     },
     "output_type": "display_data"
    },
    {
     "name": "stdout",
     "output_type": "stream",
     "text": [
      "SARS: 4 2 -1 5\n"
     ]
    },
    {
     "data": {
      "image/png": "[encoded data removed]",
      "text/plain": [
       "<Figure size 432x288 with 1 Axes>"
      ]
     },
     "metadata": {
      "needs_background": "light"
     },
     "output_type": "display_data"
    },
    {
     "name": "stdout",
     "output_type": "stream",
     "text": [
      "SARS: 5 2 -1 6\n"
     ]
    },
    {
     "data": {
      "image/png": "[encoded data removed]",
      "text/plain": [
       "<Figure size 432x288 with 1 Axes>"
      ]
     },
     "metadata": {
      "needs_background": "light"
     },
     "output_type": "display_data"
    },
    {
     "name": "stdout",
     "output_type": "stream",
     "text": [
      "SARS: 6 2 -1 14\n"
     ]
    },
    {
     "data": {
      "image/png": "[encoded data removed]",
      "text/plain": [
       "<Figure size 432x288 with 1 Axes>"
      ]
     },
     "metadata": {
      "needs_background": "light"
     },
     "output_type": "display_data"
    },
    {
     "name": "stdout",
     "output_type": "stream",
     "text": [
      "SARS: 14 2 -1 15\n"
     ]
    },
    {
     "data": {
      "image/png": "[encoded data removed]",
      "text/plain": [
       "<Figure size 432x288 with 1 Axes>"
      ]
     },
     "metadata": {
      "needs_background": "light"
     },
     "output_type": "display_data"
    },
    {
     "name": "stdout",
     "output_type": "stream",
     "text": [
      "SARS: 15 1 -1 23\n"
     ]
    },
    {
     "data": {
      "image/png": "[encoded data removed]",
      "text/plain": [
       "<Figure size 432x288 with 1 Axes>"
      ]
     },
     "metadata": {
      "needs_background": "light"
     },
     "output_type": "display_data"
    },
    {
     "name": "stdout",
     "output_type": "stream",
     "text": [
      "SARS: 23 1 0 31\n"
     ]
    },
    {
     "data": {
      "image/png": "[encoded data removed]",
      "text/plain": [
       "<Figure size 432x288 with 1 Axes>"
      ]
     },
     "metadata": {
      "needs_background": "light"
     },
     "output_type": "display_data"
    }
   ],
   "source": [
    "max_steps = 20\n",
    "state = env.reset()    \n",
    "done = False\n",
    "t = 0\n",
    "\n",
    "# Loop for steps within an episode\n",
    "while (not done) & (t < max_steps):\n",
    "    t += 1\n",
    "    # Choose action (greedy pokicy)  \n",
    "    action = np.argmax(q_values[state])\n",
    "    # Do the action\n",
    "    next_state, reward, done = env.step(action)\n",
    "    print('SARS:', state, action, reward, next_state)\n",
    "    # Update state\n",
    "    state = next_state\n",
    "    # plot\n",
    "    env.render()"
   ]
  },
  {
   "cell_type": "code",
   "execution_count": null,
   "metadata": {},
   "outputs": [],
   "source": []
  }
 ],
 "metadata": {
  "kernelspec": {
   "display_name": "Python 3",
   "language": "python",
   "name": "python3"
  },
  "language_info": {
   "codemirror_mode": {
    "name": "ipython",
    "version": 3
   },
   "file_extension": ".py",
   "mimetype": "text/x-python",
   "name": "python",
   "nbconvert_exporter": "python",
   "pygments_lexer": "ipython3",
   "version": "3.8.6"
  }
 },
 "nbformat": 4,
 "nbformat_minor": 2
}
