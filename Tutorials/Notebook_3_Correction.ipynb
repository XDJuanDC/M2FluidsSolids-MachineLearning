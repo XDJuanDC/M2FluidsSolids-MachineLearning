{
 "cells": [
  {
   "cell_type": "markdown",
   "metadata": {},
   "source": [
    "# Predicting key factors of USA health insurance cost\n",
    "\n",
    "The dataset can be obtained from https://www.kaggle.com/mirichoi0218/insurance\n",
    "    \n",
    "To handle the data (a table in csv format), we will use the pandas library for Python. \n",
    "Useful tutorials can be found at https://pandas.pydata.org/pandas-docs/stable/getting_started/tutorials.html"
   ]
  },
  {
   "cell_type": "code",
   "execution_count": 33,
   "metadata": {
    "collapsed": true,
    "jupyter": {
     "outputs_hidden": true
    }
   },
   "outputs": [],
   "source": [
    "%matplotlib inline\n",
    "import numpy as np\n",
    "import pandas as pd\n",
    "from sklearn.model_selection import train_test_split\n",
    "import matplotlib.pyplot as plt"
   ]
  },
  {
   "cell_type": "markdown",
   "metadata": {},
   "source": [
    "## Introduction to `pandas`\n",
    "\n",
    "### Importing the database"
   ]
  },
  {
   "cell_type": "code",
   "execution_count": 34,
   "metadata": {
    "collapsed": true,
    "jupyter": {
     "outputs_hidden": true
    }
   },
   "outputs": [],
   "source": [
    "# Importing the csv data\n",
    "data = pd.read_csv(\"./Data/insurance.csv\")"
   ]
  },
  {
   "cell_type": "markdown",
   "metadata": {},
   "source": [
    "Some information on the imported database can be printed using the commands `head()`, `describe()` and `info()`"
   ]
  },
  {
   "cell_type": "code",
   "execution_count": 35,
   "metadata": {
    "collapsed": true,
    "jupyter": {
     "outputs_hidden": true
    }
   },
   "outputs": [
    {
     "data": {
      "text/html": [
       "<div>\n",
       "<style scoped>\n",
       "    .dataframe tbody tr th:only-of-type {\n",
       "        vertical-align: middle;\n",
       "    }\n",
       "\n",
       "    .dataframe tbody tr th {\n",
       "        vertical-align: top;\n",
       "    }\n",
       "\n",
       "    .dataframe thead th {\n",
       "        text-align: right;\n",
       "    }\n",
       "</style>\n",
       "<table border=\"1\" class=\"dataframe\">\n",
       "  <thead>\n",
       "    <tr style=\"text-align: right;\">\n",
       "      <th></th>\n",
       "      <th>age</th>\n",
       "      <th>sex</th>\n",
       "      <th>bmi</th>\n",
       "      <th>children</th>\n",
       "      <th>smoker</th>\n",
       "      <th>region</th>\n",
       "      <th>charges</th>\n",
       "    </tr>\n",
       "  </thead>\n",
       "  <tbody>\n",
       "    <tr>\n",
       "      <th>0</th>\n",
       "      <td>19</td>\n",
       "      <td>female</td>\n",
       "      <td>27.900</td>\n",
       "      <td>0</td>\n",
       "      <td>yes</td>\n",
       "      <td>southwest</td>\n",
       "      <td>16884.92400</td>\n",
       "    </tr>\n",
       "    <tr>\n",
       "      <th>1</th>\n",
       "      <td>18</td>\n",
       "      <td>male</td>\n",
       "      <td>33.770</td>\n",
       "      <td>1</td>\n",
       "      <td>no</td>\n",
       "      <td>southeast</td>\n",
       "      <td>1725.55230</td>\n",
       "    </tr>\n",
       "    <tr>\n",
       "      <th>2</th>\n",
       "      <td>28</td>\n",
       "      <td>male</td>\n",
       "      <td>33.000</td>\n",
       "      <td>3</td>\n",
       "      <td>no</td>\n",
       "      <td>southeast</td>\n",
       "      <td>4449.46200</td>\n",
       "    </tr>\n",
       "    <tr>\n",
       "      <th>3</th>\n",
       "      <td>33</td>\n",
       "      <td>male</td>\n",
       "      <td>22.705</td>\n",
       "      <td>0</td>\n",
       "      <td>no</td>\n",
       "      <td>northwest</td>\n",
       "      <td>21984.47061</td>\n",
       "    </tr>\n",
       "    <tr>\n",
       "      <th>4</th>\n",
       "      <td>32</td>\n",
       "      <td>male</td>\n",
       "      <td>28.880</td>\n",
       "      <td>0</td>\n",
       "      <td>no</td>\n",
       "      <td>northwest</td>\n",
       "      <td>3866.85520</td>\n",
       "    </tr>\n",
       "  </tbody>\n",
       "</table>\n",
       "</div>"
      ],
      "text/plain": [
       "   age     sex     bmi  children smoker     region      charges\n",
       "0   19  female  27.900         0    yes  southwest  16884.92400\n",
       "1   18    male  33.770         1     no  southeast   1725.55230\n",
       "2   28    male  33.000         3     no  southeast   4449.46200\n",
       "3   33    male  22.705         0     no  northwest  21984.47061\n",
       "4   32    male  28.880         0     no  northwest   3866.85520"
      ]
     },
     "execution_count": 35,
     "metadata": {},
     "output_type": "execute_result"
    }
   ],
   "source": [
    "data.head()"
   ]
  },
  {
   "cell_type": "code",
   "execution_count": 36,
   "metadata": {
    "collapsed": true,
    "jupyter": {
     "outputs_hidden": true
    }
   },
   "outputs": [
    {
     "data": {
      "text/html": [
       "<div>\n",
       "<style scoped>\n",
       "    .dataframe tbody tr th:only-of-type {\n",
       "        vertical-align: middle;\n",
       "    }\n",
       "\n",
       "    .dataframe tbody tr th {\n",
       "        vertical-align: top;\n",
       "    }\n",
       "\n",
       "    .dataframe thead th {\n",
       "        text-align: right;\n",
       "    }\n",
       "</style>\n",
       "<table border=\"1\" class=\"dataframe\">\n",
       "  <thead>\n",
       "    <tr style=\"text-align: right;\">\n",
       "      <th></th>\n",
       "      <th>age</th>\n",
       "      <th>bmi</th>\n",
       "      <th>children</th>\n",
       "      <th>charges</th>\n",
       "    </tr>\n",
       "  </thead>\n",
       "  <tbody>\n",
       "    <tr>\n",
       "      <th>count</th>\n",
       "      <td>1338.000000</td>\n",
       "      <td>1338.000000</td>\n",
       "      <td>1338.000000</td>\n",
       "      <td>1338.000000</td>\n",
       "    </tr>\n",
       "    <tr>\n",
       "      <th>mean</th>\n",
       "      <td>39.207025</td>\n",
       "      <td>30.663397</td>\n",
       "      <td>1.094918</td>\n",
       "      <td>13270.422265</td>\n",
       "    </tr>\n",
       "    <tr>\n",
       "      <th>std</th>\n",
       "      <td>14.049960</td>\n",
       "      <td>6.098187</td>\n",
       "      <td>1.205493</td>\n",
       "      <td>12110.011237</td>\n",
       "    </tr>\n",
       "    <tr>\n",
       "      <th>min</th>\n",
       "      <td>18.000000</td>\n",
       "      <td>15.960000</td>\n",
       "      <td>0.000000</td>\n",
       "      <td>1121.873900</td>\n",
       "    </tr>\n",
       "    <tr>\n",
       "      <th>25%</th>\n",
       "      <td>27.000000</td>\n",
       "      <td>26.296250</td>\n",
       "      <td>0.000000</td>\n",
       "      <td>4740.287150</td>\n",
       "    </tr>\n",
       "    <tr>\n",
       "      <th>50%</th>\n",
       "      <td>39.000000</td>\n",
       "      <td>30.400000</td>\n",
       "      <td>1.000000</td>\n",
       "      <td>9382.033000</td>\n",
       "    </tr>\n",
       "    <tr>\n",
       "      <th>75%</th>\n",
       "      <td>51.000000</td>\n",
       "      <td>34.693750</td>\n",
       "      <td>2.000000</td>\n",
       "      <td>16639.912515</td>\n",
       "    </tr>\n",
       "    <tr>\n",
       "      <th>max</th>\n",
       "      <td>64.000000</td>\n",
       "      <td>53.130000</td>\n",
       "      <td>5.000000</td>\n",
       "      <td>63770.428010</td>\n",
       "    </tr>\n",
       "  </tbody>\n",
       "</table>\n",
       "</div>"
      ],
      "text/plain": [
       "               age          bmi     children       charges\n",
       "count  1338.000000  1338.000000  1338.000000   1338.000000\n",
       "mean     39.207025    30.663397     1.094918  13270.422265\n",
       "std      14.049960     6.098187     1.205493  12110.011237\n",
       "min      18.000000    15.960000     0.000000   1121.873900\n",
       "25%      27.000000    26.296250     0.000000   4740.287150\n",
       "50%      39.000000    30.400000     1.000000   9382.033000\n",
       "75%      51.000000    34.693750     2.000000  16639.912515\n",
       "max      64.000000    53.130000     5.000000  63770.428010"
      ]
     },
     "execution_count": 36,
     "metadata": {},
     "output_type": "execute_result"
    }
   ],
   "source": [
    "data.describe()"
   ]
  },
  {
   "cell_type": "code",
   "execution_count": 37,
   "metadata": {
    "collapsed": true,
    "jupyter": {
     "outputs_hidden": true
    }
   },
   "outputs": [
    {
     "name": "stdout",
     "output_type": "stream",
     "text": [
      "<class 'pandas.core.frame.DataFrame'>\n",
      "RangeIndex: 1338 entries, 0 to 1337\n",
      "Data columns (total 7 columns):\n",
      " #   Column    Non-Null Count  Dtype  \n",
      "---  ------    --------------  -----  \n",
      " 0   age       1338 non-null   int64  \n",
      " 1   sex       1338 non-null   object \n",
      " 2   bmi       1338 non-null   float64\n",
      " 3   children  1338 non-null   int64  \n",
      " 4   smoker    1338 non-null   object \n",
      " 5   region    1338 non-null   object \n",
      " 6   charges   1338 non-null   float64\n",
      "dtypes: float64(2), int64(2), object(3)\n",
      "memory usage: 73.3+ KB\n"
     ]
    }
   ],
   "source": [
    "data.info()"
   ]
  },
  {
   "cell_type": "markdown",
   "metadata": {},
   "source": [
    "As we can see, the table 1338 entries (rows) and 7 columns named\n",
    "- age (int)\n",
    "- sex (object)\n",
    "- bmi (float): body mass index\n",
    "- children (int)\n",
    "- smoker (object)\n",
    "- region (object): the beneficiary's residential area in the US, northeast, southeast, southwest, northwest.\n",
    "- charges (charges): Individual medical costs billed by health insurance"
   ]
  },
  {
   "cell_type": "markdown",
   "metadata": {},
   "source": [
    "### Replacing text by numerical data"
   ]
  },
  {
   "cell_type": "code",
   "execution_count": 38,
   "metadata": {
    "collapsed": true,
    "jupyter": {
     "outputs_hidden": true
    }
   },
   "outputs": [
    {
     "data": {
      "text/html": [
       "<div>\n",
       "<style scoped>\n",
       "    .dataframe tbody tr th:only-of-type {\n",
       "        vertical-align: middle;\n",
       "    }\n",
       "\n",
       "    .dataframe tbody tr th {\n",
       "        vertical-align: top;\n",
       "    }\n",
       "\n",
       "    .dataframe thead th {\n",
       "        text-align: right;\n",
       "    }\n",
       "</style>\n",
       "<table border=\"1\" class=\"dataframe\">\n",
       "  <thead>\n",
       "    <tr style=\"text-align: right;\">\n",
       "      <th></th>\n",
       "      <th>age</th>\n",
       "      <th>sex</th>\n",
       "      <th>bmi</th>\n",
       "      <th>children</th>\n",
       "      <th>smoker</th>\n",
       "      <th>region</th>\n",
       "      <th>charges</th>\n",
       "    </tr>\n",
       "  </thead>\n",
       "  <tbody>\n",
       "    <tr>\n",
       "      <th>0</th>\n",
       "      <td>19</td>\n",
       "      <td>2</td>\n",
       "      <td>27.900</td>\n",
       "      <td>0</td>\n",
       "      <td>1</td>\n",
       "      <td>1</td>\n",
       "      <td>16884.92400</td>\n",
       "    </tr>\n",
       "    <tr>\n",
       "      <th>1</th>\n",
       "      <td>18</td>\n",
       "      <td>1</td>\n",
       "      <td>33.770</td>\n",
       "      <td>1</td>\n",
       "      <td>0</td>\n",
       "      <td>0</td>\n",
       "      <td>1725.55230</td>\n",
       "    </tr>\n",
       "    <tr>\n",
       "      <th>2</th>\n",
       "      <td>28</td>\n",
       "      <td>1</td>\n",
       "      <td>33.000</td>\n",
       "      <td>3</td>\n",
       "      <td>0</td>\n",
       "      <td>0</td>\n",
       "      <td>4449.46200</td>\n",
       "    </tr>\n",
       "    <tr>\n",
       "      <th>3</th>\n",
       "      <td>33</td>\n",
       "      <td>1</td>\n",
       "      <td>22.705</td>\n",
       "      <td>0</td>\n",
       "      <td>0</td>\n",
       "      <td>2</td>\n",
       "      <td>21984.47061</td>\n",
       "    </tr>\n",
       "    <tr>\n",
       "      <th>4</th>\n",
       "      <td>32</td>\n",
       "      <td>1</td>\n",
       "      <td>28.880</td>\n",
       "      <td>0</td>\n",
       "      <td>0</td>\n",
       "      <td>2</td>\n",
       "      <td>3866.85520</td>\n",
       "    </tr>\n",
       "  </tbody>\n",
       "</table>\n",
       "</div>"
      ],
      "text/plain": [
       "   age  sex     bmi  children  smoker  region      charges\n",
       "0   19    2  27.900         0       1       1  16884.92400\n",
       "1   18    1  33.770         1       0       0   1725.55230\n",
       "2   28    1  33.000         3       0       0   4449.46200\n",
       "3   33    1  22.705         0       0       2  21984.47061\n",
       "4   32    1  28.880         0       0       2   3866.85520"
      ]
     },
     "execution_count": 38,
     "metadata": {},
     "output_type": "execute_result"
    }
   ],
   "source": [
    "data = data.replace({'male': 1, 'female': 2, 'no': 0, 'yes': 1})  # for sex and smoker columns\n",
    "data = data.replace({'southeast': 0, 'southwest': 1, 'northwest': 2, 'northeast': 3})\n",
    "\n",
    "data.head()"
   ]
  },
  {
   "cell_type": "markdown",
   "metadata": {},
   "source": [
    "### Splitting the dataset between train and test data\n",
    "\n",
    "We will split the dataset between the training dataset `train` and the testing dataset `test`.\n",
    "\n",
    "The goal will be to find the best possible prediction of the medical cost given the other variables (age, sex...). To test how good the prediction is, we wil use the training set. "
   ]
  },
  {
   "cell_type": "code",
   "execution_count": 39,
   "metadata": {
    "collapsed": true,
    "jupyter": {
     "outputs_hidden": true
    }
   },
   "outputs": [],
   "source": [
    "train, test = train_test_split(data, test_size=0.2)"
   ]
  },
  {
   "cell_type": "markdown",
   "metadata": {},
   "source": [
    "### Plotting the data\n",
    "\n",
    "You can conveniently plot the data with one the following methods. "
   ]
  },
  {
   "cell_type": "code",
   "execution_count": 40,
   "metadata": {
    "collapsed": true,
    "jupyter": {
     "outputs_hidden": true
    }
   },
   "outputs": [
    {
     "data": {
      "text/plain": [
       "<AxesSubplot:xlabel='age', ylabel='charges'>"
      ]
     },
     "execution_count": 40,
     "metadata": {},
     "output_type": "execute_result"
    },
    {
     "data": {
      "image/png": "[encoded data removed]",
      "text/plain": [
       "<Figure size 432x288 with 1 Axes>"
      ]
     },
     "metadata": {
      "needs_background": "light"
     },
     "output_type": "display_data"
    }
   ],
   "source": [
    "# plot applied to the pandas object\n",
    "train.plot.scatter('age', 'charges')"
   ]
  },
  {
   "cell_type": "code",
   "execution_count": null,
   "metadata": {},
   "outputs": [],
   "source": [
    "# plot after transforming data into numpy arrays\n",
    "x = np.array(train[\"age\"])\n",
    "y = np.array(train[\"charges\"])\n",
    "plt.scatter(x, y)\n",
    "plt.show()"
   ]
  },
  {
   "cell_type": "markdown",
   "metadata": {},
   "source": [
    "Pair-wise correlations can be computed with the function `corr()`. \n",
    "Large positive or negative correlations with the column `charges` indicate that the variable is an important factor in determining the price of medical cost. "
   ]
  },
  {
   "cell_type": "code",
   "execution_count": 41,
   "metadata": {
    "collapsed": true,
    "jupyter": {
     "outputs_hidden": true
    }
   },
   "outputs": [
    {
     "data": {
      "text/html": [
       "<div>\n",
       "<style scoped>\n",
       "    .dataframe tbody tr th:only-of-type {\n",
       "        vertical-align: middle;\n",
       "    }\n",
       "\n",
       "    .dataframe tbody tr th {\n",
       "        vertical-align: top;\n",
       "    }\n",
       "\n",
       "    .dataframe thead th {\n",
       "        text-align: right;\n",
       "    }\n",
       "</style>\n",
       "<table border=\"1\" class=\"dataframe\">\n",
       "  <thead>\n",
       "    <tr style=\"text-align: right;\">\n",
       "      <th></th>\n",
       "      <th>age</th>\n",
       "      <th>sex</th>\n",
       "      <th>bmi</th>\n",
       "      <th>children</th>\n",
       "      <th>smoker</th>\n",
       "      <th>region</th>\n",
       "      <th>charges</th>\n",
       "    </tr>\n",
       "  </thead>\n",
       "  <tbody>\n",
       "    <tr>\n",
       "      <th>age</th>\n",
       "      <td>1.000000</td>\n",
       "      <td>0.002479</td>\n",
       "      <td>0.130905</td>\n",
       "      <td>0.040701</td>\n",
       "      <td>-0.023626</td>\n",
       "      <td>0.005759</td>\n",
       "      <td>0.307285</td>\n",
       "    </tr>\n",
       "    <tr>\n",
       "      <th>sex</th>\n",
       "      <td>0.002479</td>\n",
       "      <td>1.000000</td>\n",
       "      <td>-0.055257</td>\n",
       "      <td>-0.022892</td>\n",
       "      <td>-0.081348</td>\n",
       "      <td>0.019832</td>\n",
       "      <td>-0.067661</td>\n",
       "    </tr>\n",
       "    <tr>\n",
       "      <th>bmi</th>\n",
       "      <td>0.130905</td>\n",
       "      <td>-0.055257</td>\n",
       "      <td>1.000000</td>\n",
       "      <td>0.033978</td>\n",
       "      <td>-0.029803</td>\n",
       "      <td>-0.260941</td>\n",
       "      <td>0.178203</td>\n",
       "    </tr>\n",
       "    <tr>\n",
       "      <th>children</th>\n",
       "      <td>0.040701</td>\n",
       "      <td>-0.022892</td>\n",
       "      <td>0.033978</td>\n",
       "      <td>1.000000</td>\n",
       "      <td>0.010650</td>\n",
       "      <td>-0.014188</td>\n",
       "      <td>0.074900</td>\n",
       "    </tr>\n",
       "    <tr>\n",
       "      <th>smoker</th>\n",
       "      <td>-0.023626</td>\n",
       "      <td>-0.081348</td>\n",
       "      <td>-0.029803</td>\n",
       "      <td>0.010650</td>\n",
       "      <td>1.000000</td>\n",
       "      <td>-0.029913</td>\n",
       "      <td>0.782802</td>\n",
       "    </tr>\n",
       "    <tr>\n",
       "      <th>region</th>\n",
       "      <td>0.005759</td>\n",
       "      <td>0.019832</td>\n",
       "      <td>-0.260941</td>\n",
       "      <td>-0.014188</td>\n",
       "      <td>-0.029913</td>\n",
       "      <td>1.000000</td>\n",
       "      <td>-0.035123</td>\n",
       "    </tr>\n",
       "    <tr>\n",
       "      <th>charges</th>\n",
       "      <td>0.307285</td>\n",
       "      <td>-0.067661</td>\n",
       "      <td>0.178203</td>\n",
       "      <td>0.074900</td>\n",
       "      <td>0.782802</td>\n",
       "      <td>-0.035123</td>\n",
       "      <td>1.000000</td>\n",
       "    </tr>\n",
       "  </tbody>\n",
       "</table>\n",
       "</div>"
      ],
      "text/plain": [
       "               age       sex       bmi  children    smoker    region   charges\n",
       "age       1.000000  0.002479  0.130905  0.040701 -0.023626  0.005759  0.307285\n",
       "sex       0.002479  1.000000 -0.055257 -0.022892 -0.081348  0.019832 -0.067661\n",
       "bmi       0.130905 -0.055257  1.000000  0.033978 -0.029803 -0.260941  0.178203\n",
       "children  0.040701 -0.022892  0.033978  1.000000  0.010650 -0.014188  0.074900\n",
       "smoker   -0.023626 -0.081348 -0.029803  0.010650  1.000000 -0.029913  0.782802\n",
       "region    0.005759  0.019832 -0.260941 -0.014188 -0.029913  1.000000 -0.035123\n",
       "charges   0.307285 -0.067661  0.178203  0.074900  0.782802 -0.035123  1.000000"
      ]
     },
     "execution_count": 41,
     "metadata": {},
     "output_type": "execute_result"
    }
   ],
   "source": [
    "train.corr()"
   ]
  },
  {
   "cell_type": "markdown",
   "metadata": {},
   "source": [
    "From these values, we see that the three key factors are \n",
    "- age\n",
    "- bmi\n",
    "- smoker"
   ]
  },
  {
   "cell_type": "markdown",
   "metadata": {},
   "source": [
    "## Linear regression with one variable"
   ]
  },
  {
   "cell_type": "markdown",
   "metadata": {},
   "source": [
    "### Plotting\n",
    "\n",
    "### Question 1\n",
    "Plot how the medical cost varies as a function of other vaiables and see whether you can spot the correlations evidenced with the function `corr()`. "
   ]
  },
  {
   "cell_type": "code",
   "execution_count": null,
   "metadata": {},
   "outputs": [],
   "source": [
    "# your answer here"
   ]
  },
  {
   "cell_type": "markdown",
   "metadata": {},
   "source": [
    "### Gradient descent algorithm\n",
    "\n",
    "We want to find a linear regression between x = age and y = charges.\n",
    "\n",
    "The linear regression consists in the hypothesis\n",
    "\n",
    "$$h_\\theta (x) = \\theta_0 + \\theta_1 x$$\n",
    "\n",
    "with the cost function\n",
    "\n",
    "$$J(\\theta_0, \\theta_1) = \\frac{1}{2N}\n",
    "\\sum_{i=1}^N \\left( h_\\theta (x^{(i)}) - y^{(i)} \\right)^2$$\n",
    "\n",
    "The iterative procedure of the gradient descent algorithm is then \n",
    "\n",
    "$$\\theta_j := \\theta_j - \\alpha \\frac{\\partial}{\\partial \\theta_j} J(\\theta)$$\n",
    "\n",
    "with $\\alpha$ the learning parameter and \n",
    "\n",
    "$$\\frac{\\partial J}{\\partial \\theta_0} = \\frac{1}{N}\n",
    "\\sum_{i=1}^N \\left( h_\\theta (x^{(i)}) - y^{(i)} \\right)$$\n",
    "\n",
    "$$\\frac{\\partial J}{\\partial \\theta_1} = \\frac{1}{N}\n",
    "\\sum_{i=1}^N \\left( h_\\theta (x^{(i)}) - y^{(i)} \\right)x^{(i)}$$"
   ]
  },
  {
   "cell_type": "markdown",
   "metadata": {},
   "source": [
    "### Question 2\n",
    "- Complete the following code to implement a gradient descent algorithm\n",
    "- Check if the learning converges for different values of $\\alpha$ (a plot of J as a function of t may help)"
   ]
  },
  {
   "cell_type": "code",
   "execution_count": 43,
   "metadata": {
    "collapsed": true,
    "jupyter": {
     "outputs_hidden": true
    },
    "tags": []
   },
   "outputs": [
    {
     "name": "stdout",
     "output_type": "stream",
     "text": [
      "t 0   J 73483428.19581729 theta0, theta1 1004.2654942511859 379.53101953071206\n",
      "t 1   J 69307691.5394465 theta0, theta1 1001.4726640145598 246.48328569997355\n",
      "t 2   J 67014614.59989345 theta0, theta1 1003.91028345463 345.06848714751357\n",
      "t 3   J 65755378.15770641 theta0, theta1 1002.4718960796923 272.00473415190964\n",
      "t 4   J 65063863.09835934 theta0, theta1 1003.9057380299251 326.1394898826775\n",
      "t 5   J 64684105.579437494 theta0, theta1 1003.2111055770555 286.0152366104139\n",
      "t 6   J 64475546.06029459 theta0, theta1 1004.0937134165196 315.740552131528\n",
      "t 7   J 64360997.91847517 theta0, theta1 1003.8074837741827 293.70463911328557\n",
      "t 8   J 64298075.025945805 theta0, theta1 1004.3873663943041 310.02579744260925\n",
      "t 9   J 64263501.5378442 theta0, theta1 1004.3253848902339 297.92288471557845\n",
      "t 10   J 64244495.797076486 theta0, theta1 1004.7390080376396 306.88330788896064\n",
      "t 11   J 64234038.9066252 theta0, theta1 1004.8001482992294 300.23498620522105\n",
      "t 12   J 64228276.52155035 theta0, theta1 1005.1224505422657 305.1533485215014\n",
      "t 13   J 64225092.07355295 theta0, theta1 1005.2511802134319 301.5003519910082\n",
      "t 14   J 64223323.273986086 theta0, theta1 1005.5233131924363 304.19906450077207\n",
      "t 15   J 64222331.86567586 theta0, theta1 1005.6891373362789 302.19091611632257\n",
      "t 16   J 64221767.35718385 theta0, theta1 1005.9336989965188 303.6707344641637\n",
      "t 17   J 64221437.28024785 theta0, theta1 1006.1198716810986 302.56583562331065\n",
      "t 18   J 64221235.94317938 theta0, theta1 1006.3492714238977 303.3763130287261\n",
      "t 19   J 64221105.3066263 theta0, theta1 1006.5465968220208 302.76742356056315\n",
      "t 20   J 64221013.49895895 theta0, theta1 1006.7676491293444 303.21034072560735\n",
      "t 21   J 64220943.0182446 theta0, theta1 1006.9710774652459 302.8738294686286\n",
      "t 22   J 64220884.253501296 theta0, theta1 1007.1875244347423 303.1149057247047\n",
      "t 23   J 64220831.92696983 theta0, theta1 1007.3942826881496 302.9279682504934\n",
      "t 24   J 64220783.140429914 theta0, theta1 1007.6081792536687 303.058206423822\n",
      "t 25   J 64220736.30235684 theta0, theta1 1007.8167446578717 302.95340612136107\n",
      "t 26   J 64220690.538782425 theta0, theta1 1008.0292192670594 303.0227793460471\n",
      "t 27   J 64220645.36977604 theta0, theta1 1008.2387556174208 302.9630841915721\n",
      "t 28   J 64220600.531788714 theta0, theta1 1008.450427948894 302.9990346277276\n",
      "t 29   J 64220555.88009455 theta0, theta1 1008.6604760582816 302.9641089198039\n",
      "t 30   J 64220511.335217915 theta0, theta1 1008.8716864061136 302.9817061075458\n",
      "t 31   J 64220466.85351465 theta0, theta1 1009.0819941221332 302.9603827342355\n",
      "t 32   J 64220422.411017165 theta0, theta1 1009.2929293596525 302.96790193458753\n",
      "t 33   J 64220377.99456286 theta0, theta1 1009.503358220606 302.95404860729315\n",
      "t 34   J 64220333.59692259 theta0, theta1 1009.7141209719379 302.9560340826376\n",
      "t 35   J 64220289.21412562 theta0, theta1 1009.9245949480377 302.9462833269215\n",
      "t 36   J 64220244.84399048 theta0, theta1 1010.1352415728453 302.94523050551516\n",
      "t 37   J 64220200.48531815 theta0, theta1 1010.3457189180539 302.93773311219405\n",
      "t 38   J 64220156.137449175 theta0, theta1 1010.5562803704125 302.93501232907454\n",
      "t 39   J 64220111.80002033 theta0, theta1 1010.7667381652104 302.92875282651454\n",
      "t 40   J 64220067.47283138 theta0, theta1 1010.9772314480141 302.92511658497955\n",
      "t 41   J 64220023.155771114 theta0, theta1 1011.1876571112421 302.9195373387393\n",
      "t 42   J 64219978.84877765 theta0, theta1 1011.3980915662557 302.915398867036\n",
      "t 43   J 64219934.551815756 theta0, theta1 1011.6084781939428 302.9101936585962\n",
      "t 44   J 64219890.26486524 theta0, theta1 1011.8188589559118 302.90577987605894\n",
      "t 45   J 64219845.98791394 theta0, theta1 1012.0292027616472 302.9007805490039\n",
      "t 46   J 64219801.72095426 theta0, theta1 1012.2395326550798 302.8962160656136\n",
      "t 47   J 64219757.46398076 theta0, theta1 1012.4498315644232 302.8913302787118\n",
      "t 48   J 64219713.216989614 theta0, theta1 1012.6601121451872 302.88668352246856\n",
      "t 49   J 64219668.97997801 theta0, theta1 1012.8703650238059 302.8818605675073\n",
      "t 50   J 64219624.75294273 theta0, theta1 1013.080597151109 302.8771691147354\n",
      "t 51   J 64219580.53588158 theta0, theta1 1013.290803380918 302.87238114578594\n",
      "t 52   J 64219536.32879188 theta0, theta1 1013.5009875314042 302.86766563097433\n",
      "t 53   J 64219492.131671496 theta0, theta1 1013.7111467778088 302.86289735666264\n",
      "t 54   J 64219447.94451802 theta0, theta1 1013.9212832180406 302.85816911088983\n",
      "t 55   J 64219403.76732947 theta0, theta1 1014.1313953021206 302.8534121340286\n",
      "t 56   J 64219359.60010319 theta0, theta1 1014.3414841832953 302.8486773795147\n",
      "t 57   J 64219315.44283706 theta0, theta1 1014.5515490116161 302.84392708877823\n",
      "t 58   J 64219271.29552906 theta0, theta1 1014.7615904215788 302.8391892422735\n",
      "t 59   J 64219227.158176415 theta0, theta1 1014.9716079476482 302.83444310529774\n",
      "t 60   J 64219183.03077765 theta0, theta1 1015.1816019394539 302.82970404296185\n",
      "t 61   J 64219138.91332983 theta0, theta1 1015.3915721425564 302.82496066901996\n",
      "t 62   J 64219094.80583109 theta0, theta1 1015.601518750154 302.8202214210152\n",
      "t 63   J 64219050.708278924 theta0, theta1 1015.8114416237279 302.8154800462971\n",
      "t 64   J 64219006.620671265 theta0, theta1 1016.0213408705739 302.8107411782165\n",
      "t 65   J 64218962.54300584 theta0, theta1 1016.231216415829 302.8060013831763\n",
      "t 66   J 64218918.475280344 theta0, theta1 1016.4410683196164 302.80126320549965\n",
      "t 67   J 64218874.41749265 theta0, theta1 1016.6508965420289 302.79652475964\n",
      "t 68   J 64218830.36964048 theta0, theta1 1016.8607011172852 302.79178744275515\n",
      "t 69   J 64218786.33172161 theta0, theta1 1017.0704820246732 302.78705021939237\n",
      "t 70   J 64218742.30373366 theta0, theta1 1017.2802392841862 302.78231385675724\n",
      "t 71   J 64218698.28567454 theta0, theta1 1017.4899728856527 302.77757778621594\n",
      "t 72   J 64218654.27754187 theta0, theta1 1017.6996828412539 302.7728424290432\n",
      "t 73   J 64218610.2793337 theta0, theta1 1017.9093691466062 302.7681074729534\n",
      "t 74   J 64218566.29104742 theta0, theta1 1018.1190318096008 302.76337314925723\n",
      "t 75   J 64218522.31268096 theta0, theta1 1018.3286708290323 302.75863928643986\n",
      "t 76   J 64218478.344232306 theta0, theta1 1018.5382862104354 302.75390601149564\n",
      "t 77   J 64218434.385698766 theta0, theta1 1018.74787795435 302.7491732302119\n",
      "t 78   J 64218390.43707828 theta0, theta1 1018.9574460650166 302.7444410122992\n",
      "t 79   J 64218346.498369016 theta0, theta1 1019.1669905439328 302.7397093059944\n",
      "t 80   J 64218302.56956809 theta0, theta1 1019.3765113946284 302.7349781495514\n",
      "t 81   J 64218258.650673814 theta0, theta1 1019.5860086191268 302.73024751451777\n",
      "t 82   J 64218214.74168357 theta0, theta1 1019.7954822205671 302.725517421873\n",
      "t 83   J 64218170.84259533 theta0, theta1 1020.0049322012611 302.7207878559659\n",
      "t 84   J 64218126.95340669 theta0, theta1 1020.2143585641332 302.7160588282898\n",
      "t 85   J 64218083.074115686 theta0, theta1 1020.4237613116533 302.71133033022306\n",
      "t 86   J 64218039.204719886 theta0, theta1 1020.6331404466274 302.70660236804986\n",
      "t 87   J 64217995.34521694 theta0, theta1 1020.842495971612 302.70187493700877\n",
      "t 88   J 64217951.49560494 theta0, theta1 1021.0518278893481 302.69714804052353\n",
      "t 89   J 64217907.65588141 theta0, theta1 1021.2611362024395 302.6924216759523\n",
      "t 90   J 64217863.82604431 theta0, theta1 1021.4704209135909 302.68769584514814\n",
      "t 91   J 64217820.00609132 theta0, theta1 1021.6796820254318 302.68297054663327\n",
      "t 92   J 64217776.196020186 theta0, theta1 1021.888919540647 302.6782457813982\n",
      "t 93   J 64217732.39582859 theta0, theta1 1022.0981334618797 302.6735215486041\n",
      "t 94   J 64217688.60551445 theta0, theta1 1022.3073237918034 302.66879784876824\n",
      "t 95   J 64217644.82507537 theta0, theta1 1022.5164905330687 302.6640746814026\n",
      "t 96   J 64217601.0545095 theta0, theta1 1022.7256336883426 302.65935204676424\n",
      "t 97   J 64217557.29381422 theta0, theta1 1022.9347532602794 302.6546299445581\n",
      "t 98   J 64217513.54298746 theta0, theta1 1023.1438492515424 302.6499083748983\n",
      "t 99   J 64217469.80202704 theta0, theta1 1023.3529216647876 302.64518733759576\n"
     ]
    },
    {
     "data": {
      "image/png": "[encoded data removed]",
      "text/plain": [
       "<Figure size 432x288 with 1 Axes>"
      ]
     },
     "metadata": {
      "needs_background": "light"
     },
     "output_type": "display_data"
    }
   ],
   "source": [
    "T = 100  # number of steps\n",
    "alpha = 0.001  # learning parameter\n",
    "theta0 = 1000.  # initial value\n",
    "theta1 = 200.  # initial value\n",
    "N = len(x)  \n",
    "Jtable = []\n",
    "\n",
    "#for t in range(T):\n",
    "#    for i in range(N):\n",
    "for t in range(T):\n",
    "    J = 0\n",
    "    dJ0 = 0\n",
    "    dJ1 = 0\n",
    "    for i in range(N):\n",
    "        h_minus_y = theta0 + theta1 * x[i] - y[i]\n",
    "        J += h_minus_y**2 / (2 * N)\n",
    "        dJ0 += h_minus_y /N\n",
    "        dJ1 += h_minus_y * x[i] /N\n",
    "    theta0 -= alpha * dJ0\n",
    "    theta1 -= alpha * dJ1\n",
    "    Jtable.append(J)\n",
    "    print('t', t, '  J', J,  'theta0, theta1', theta0, theta1)\n",
    "plt.plot(Jtable)\n",
    "plt.show()"
   ]
  },
  {
   "cell_type": "code",
   "execution_count": 44,
   "metadata": {
    "tags": []
   },
   "outputs": [
    {
     "data": {
      "image/png": "[encoded data removed]",
      "text/plain": [
       "<Figure size 432x288 with 1 Axes>"
      ]
     },
     "metadata": {
      "needs_background": "light"
     },
     "output_type": "display_data"
    }
   ],
   "source": [
    "# check the linear regression works\n",
    "plt.plot(x,y,'.')\n",
    "plt.plot(x,theta0 + theta1 * x)\n",
    "plt.show()"
   ]
  },
  {
   "cell_type": "markdown",
   "metadata": {},
   "source": [
    "### Evaluation of the prediction"
   ]
  },
  {
   "cell_type": "code",
   "execution_count": 97,
   "metadata": {
    "collapsed": true,
    "jupyter": {
     "outputs_hidden": true
    }
   },
   "outputs": [],
   "source": [
    "def EvaluationError(y, h):\n",
    "    N = len(y)\n",
    "    assert len(h)==N, 'The two vectors do not have the same length.'\n",
    "    J = 0\n",
    "    for i in range(N_test):\n",
    "        h_minus_y = h[i] - y[i]\n",
    "        J += h_minus_y**2 / (2 * N)\n",
    "    return J"
   ]
  },
  {
   "cell_type": "code",
   "execution_count": 98,
   "metadata": {
    "tags": []
   },
   "outputs": [
    {
     "name": "stdout",
     "output_type": "stream",
     "text": [
      "Mean error J: 7.807e+07\n"
     ]
    }
   ],
   "source": [
    "x_test = np.array(test[\"age\"])\n",
    "y_test = np.array(test[\"charges\"])\n",
    "h_test = theta0 + theta1 * x_test\n",
    "\n",
    "print(\"Mean error J: %.3e\" % EvaluationError(y_test, h_test))"
   ]
  },
  {
   "cell_type": "markdown",
   "metadata": {},
   "source": [
    "### Direct method\n",
    "The parameters $\\theta_0$ and $\\theta_1$ can also be obtained by the direct method\n",
    "\n",
    "$\\theta_1 = {\\langle (x - \\langle x \\rangle) (y - \\langle y \\rangle)} \\,/\\, {\\langle(x - \\langle x \\rangle)^2\\rangle}$\n",
    "\n",
    "$\\theta_0 = \\langle y \\rangle - \\theta_1 \\langle x \\rangle$\n",
    "\n",
    "### Question 4\n",
    "Complete the code below to calculate $\\theta_0$ and $\\theta_1$ directly."
   ]
  },
  {
   "cell_type": "code",
   "execution_count": 46,
   "metadata": {
    "tags": []
   },
   "outputs": [
    {
     "ename": "NameError",
     "evalue": "name 'theta_0' is not defined",
     "output_type": "error",
     "traceback": [
      "\u001b[0;31m---------------------------------------------------------------------------\u001b[0m",
      "\u001b[0;31mNameError\u001b[0m                                 Traceback (most recent call last)",
      "\u001b[0;32m<ipython-input-46-61a0ddb53883>\u001b[0m in \u001b[0;36m<module>\u001b[0;34m\u001b[0m\n\u001b[1;32m      5\u001b[0m \u001b[0;31m#theta_0 = ...\u001b[0m\u001b[0;34m\u001b[0m\u001b[0;34m\u001b[0m\u001b[0;34m\u001b[0m\u001b[0m\n\u001b[1;32m      6\u001b[0m \u001b[0;34m\u001b[0m\u001b[0m\n\u001b[0;32m----> 7\u001b[0;31m \u001b[0mprint\u001b[0m\u001b[0;34m(\u001b[0m\u001b[0;34m\"theta_0, theta_1\"\u001b[0m\u001b[0;34m,\u001b[0m \u001b[0mtheta_0\u001b[0m\u001b[0;34m,\u001b[0m \u001b[0mtheta_1\u001b[0m\u001b[0;34m)\u001b[0m\u001b[0;34m\u001b[0m\u001b[0;34m\u001b[0m\u001b[0m\n\u001b[0m\u001b[1;32m      8\u001b[0m \u001b[0;34m\u001b[0m\u001b[0m\n\u001b[1;32m      9\u001b[0m \u001b[0mplt\u001b[0m\u001b[0;34m.\u001b[0m\u001b[0mplot\u001b[0m\u001b[0;34m(\u001b[0m\u001b[0mx\u001b[0m\u001b[0;34m,\u001b[0m \u001b[0my\u001b[0m\u001b[0;34m,\u001b[0m \u001b[0;34m'.'\u001b[0m\u001b[0;34m)\u001b[0m\u001b[0;34m\u001b[0m\u001b[0;34m\u001b[0m\u001b[0m\n",
      "\u001b[0;31mNameError\u001b[0m: name 'theta_0' is not defined"
     ]
    }
   ],
   "source": [
    "xm = np.mean(x)\n",
    "ym = np.mean(y)\n",
    "\n",
    "#theta_1 = ...\n",
    "#theta_0 = ...\n",
    "\n",
    "#print(\"theta_0, theta_1\", theta_0, theta_1)\n",
    "\n",
    "plt.plot(x, y, '.')\n",
    "#plt.plot(x, theta_0 + theta_1 * x)\n",
    "plt.show()"
   ]
  },
  {
   "cell_type": "markdown",
   "metadata": {},
   "source": [
    "## Multivariable linear regression\n",
    "\n",
    "### Rescaled variables"
   ]
  },
  {
   "cell_type": "code",
   "execution_count": 87,
   "metadata": {
    "collapsed": true,
    "jupyter": {
     "outputs_hidden": true
    }
   },
   "outputs": [],
   "source": [
    "# Input variables\n",
    "x0 = np.array(train[\"age\"])\n",
    "x1 = np.array(train[\"bmi\"])\n",
    "x2 = np.array(train[\"smoker\"])\n",
    "y = np.array(train[\"charges\"])\n",
    "\n",
    "x0test = np.array(test[\"age\"])\n",
    "x1test = np.array(test[\"bmi\"])\n",
    "x2test = np.array(test[\"smoker\"])\n",
    "ytest = np.array(test[\"charges\"])"
   ]
  },
  {
   "cell_type": "code",
   "execution_count": 88,
   "metadata": {
    "collapsed": true,
    "jupyter": {
     "outputs_hidden": true
    }
   },
   "outputs": [],
   "source": [
    "def ToRescaled(x, mean=None, std=None):\n",
    "    if mean is None:\n",
    "        mean = np.mean(x)\n",
    "    if std is None:\n",
    "        std = np.std(x)\n",
    "    x_ = (x - mean) / std\n",
    "    return x_, mean, std\n",
    "    \n",
    "def FromRescaled(x_, mean, std):\n",
    "    x = x_ * std + mean \n",
    "    return x"
   ]
  },
  {
   "cell_type": "code",
   "execution_count": 89,
   "metadata": {
    "collapsed": true,
    "jupyter": {
     "outputs_hidden": true
    }
   },
   "outputs": [],
   "source": [
    "x_0, mean0, std0 = ToRescaled(x0)\n",
    "x_1, mean1, std1 = ToRescaled(x1)\n",
    "x_2, mean2, std2 = ToRescaled(x2)\n",
    "y_ , meany, stdy = ToRescaled(y)\n",
    "\n",
    "x_0test, _, _ = ToRescaled(x0test, mean0, std0)\n",
    "x_1test, _, _ = ToRescaled(x1test, mean1, std1)\n",
    "x_2test, _, _ = ToRescaled(x2test, mean2, std2)\n",
    "y_test , _, _ = ToRescaled(ytest , meany, stdy)"
   ]
  },
  {
   "cell_type": "code",
   "execution_count": 91,
   "metadata": {
    "collapsed": true,
    "jupyter": {
     "outputs_hidden": true
    }
   },
   "outputs": [
    {
     "data": {
      "image/png": "[encoded data removed]",
      "text/plain": [
       "<Figure size 432x288 with 1 Axes>"
      ]
     },
     "metadata": {
      "needs_background": "light"
     },
     "output_type": "display_data"
    }
   ],
   "source": [
    "plt.plot(x_0, y_, '.', label=\"x_0\")\n",
    "plt.plot(x_1, y_, '.', label=\"x_1\")\n",
    "plt.plot(x_2, y_, '.', label=\"x_2\")\n",
    "plt.legend()\n",
    "plt.ylabel('y_')\n",
    "plt.show()"
   ]
  },
  {
   "cell_type": "markdown",
   "metadata": {},
   "source": [
    "### Gradient descent"
   ]
  },
  {
   "cell_type": "code",
   "execution_count": 71,
   "metadata": {
    "collapsed": true,
    "jupyter": {
     "outputs_hidden": true
    }
   },
   "outputs": [
    {
     "name": "stdout",
     "output_type": "stream",
     "text": [
      "(1070, 4)\n"
     ]
    }
   ],
   "source": [
    "X_ = np.concatenate(\n",
    "    (np.ones(shape=(len(y),1)), \n",
    "     x_0[:, np.newaxis], \n",
    "     x_1[:, np.newaxis], \n",
    "     x2[:, np.newaxis]), axis=1)"
   ]
  },
  {
   "cell_type": "code",
   "execution_count": 78,
   "metadata": {
    "collapsed": true,
    "jupyter": {
     "outputs_hidden": true
    }
   },
   "outputs": [
    {
     "name": "stdout",
     "output_type": "stream",
     "text": [
      "t 0   J 0.8617208515353604 theta [0.5889614  0.73871009 0.57707633 0.87496893]\n",
      "t 10   J 0.2855085985429504 theta [0.08371988 0.43032306 0.27807412 0.95056049]\n",
      "t 20   J 0.20474573976602192 theta [-0.10654112  0.33758857  0.18929995  1.07031748]\n",
      "t 30   J 0.1801097557277715 theta [-0.18923329  0.31016957  0.16368577  1.19106704]\n",
      "t 40   J 0.16560179243355674 theta [-0.23347982  0.30248857  0.1569295   1.30042076]\n",
      "t 50   J 0.15535339166060025 theta [-0.2625634   0.30072005  0.15570869  1.39595644]\n",
      "t 60   J 0.14789696476899614 theta [-0.28453928  0.30067229  0.15603342  1.47832227]\n",
      "t 70   J 0.14244870657064046 theta [-0.30237441  0.30107961  0.15672133  1.54897678]\n",
      "t 80   J 0.13846535425732534 theta [-0.31730916  0.30156555  0.15743215  1.60946764]\n",
      "t 90   J 0.13555277638771984 theta [-0.32997544  0.30202354  0.15807644  1.66121801]\n",
      "t 100   J 0.13342310888191528 theta [-0.34077188  0.30242834  0.15863815  1.70547797]\n",
      "t 110   J 0.1318659000829194 theta [-0.34999254  0.3027786   0.15912164  1.74332741]\n",
      "t 120   J 0.1307272716943862 theta [-0.35787337  0.3030794   0.15953599  1.77569341]\n",
      "t 130   J 0.12989470854830684 theta [-0.36461103  0.30333703  0.15989056  1.80336991]\n",
      "t 140   J 0.1292859397848776 theta [-0.37037201  0.30355747  0.16019382  1.82703623]\n",
      "t 150   J 0.12884080909493834 theta [-0.37529809  0.30374601  0.16045317  1.84727336]\n",
      "t 160   J 0.1285153302874619 theta [-0.37951035  0.30390724  0.16067493  1.86457817]\n",
      "t 170   J 0.12827734073402838 theta [-0.38311224  0.30404512  0.16086457  1.87937554]\n",
      "t 180   J 0.12810332317515022 theta [-0.38619222  0.30416301  0.16102672  1.89202879]\n",
      "t 190   J 0.1279760818304733 theta [-0.38882591  0.30426383  0.16116538  1.9028486 ]\n"
     ]
    },
    {
     "data": {
      "image/png": "[encoded data removed]",
      "text/plain": [
       "<Figure size 432x288 with 1 Axes>"
      ]
     },
     "metadata": {
      "needs_background": "light"
     },
     "output_type": "display_data"
    }
   ],
   "source": [
    "T = 200  # number of steps\n",
    "alpha = 0.1  # learning parameter\n",
    "N = X_.shape[0]  # number of data points (1070 here)\n",
    "M = X_.shape[1]  # number of features/variables (4 here)\n",
    "theta = np.random.rand(M)\n",
    "Jtable = []\n",
    "\n",
    "for t in range(T):\n",
    "    h_minus_y = np.sum(theta[np.newaxis, :] * X_, axis=1) - y_\n",
    "    J = np.sum(h_minus_y**2) / (2 * N)\n",
    "    dJ = np.sum(h_minus_y[:, np.newaxis] * X_, axis=0) / N\n",
    "    theta -= alpha * dJ\n",
    "    Jtable.append(J)\n",
    "    if t % 10==0:\n",
    "        print('t', t, '  J', J,  'theta', theta)\n",
    "plt.plot(Jtable)\n",
    "plt.show()"
   ]
  },
  {
   "cell_type": "code",
   "execution_count": 84,
   "metadata": {
    "collapsed": true,
    "jupyter": {
     "outputs_hidden": true
    }
   },
   "outputs": [
    {
     "data": {
      "text/plain": [
       "<function matplotlib.pyplot.show(close=None, block=None)>"
      ]
     },
     "execution_count": 84,
     "metadata": {},
     "output_type": "execute_result"
    },
    {
     "data": {
      "image/png": "[encoded data removed]",
      "text/plain": [
       "<Figure size 432x288 with 1 Axes>"
      ]
     },
     "metadata": {
      "needs_background": "light"
     },
     "output_type": "display_data"
    }
   ],
   "source": [
    "h_ = np.sum(theta[np.newaxis, :] * X_, axis=1)\n",
    "plt.plot(x_0, y_, '.', label='data')\n",
    "plt.plot(x_0, h_, '.', label='prediction')\n",
    "plt.xlabel('age (rescaled)')\n",
    "plt.legend()\n",
    "plt.show"
   ]
  },
  {
   "cell_type": "code",
   "execution_count": 99,
   "metadata": {
    "collapsed": true,
    "jupyter": {
     "outputs_hidden": true
    }
   },
   "outputs": [
    {
     "name": "stdout",
     "output_type": "stream",
     "text": [
      "Mean error J: 2.073e+07\n"
     ]
    }
   ],
   "source": [
    "X_test = np.concatenate(\n",
    "    (np.ones(shape=(len(ytest),1)), \n",
    "     x_0test[:, np.newaxis], \n",
    "     x_1test[:, np.newaxis], \n",
    "     x2test[:, np.newaxis]), axis=1)\n",
    "\n",
    "h_test = np.sum(theta[np.newaxis, :] * X_test, axis=1)\n",
    "htest = FromRescaled(h_test, meany, stdy)\n",
    "\n",
    "print(\"Mean error J: %.3e\" % EvaluationError(ytest, htest))"
   ]
  },
  {
   "cell_type": "markdown",
   "metadata": {},
   "source": [
    "### Direct method"
   ]
  },
  {
   "cell_type": "code",
   "execution_count": 103,
   "metadata": {
    "collapsed": true,
    "jupyter": {
     "outputs_hidden": true
    }
   },
   "outputs": [],
   "source": [
    "XTXinv = np.linalg.inv(np.transpose(X_).dot(X_))"
   ]
  },
  {
   "cell_type": "code",
   "execution_count": 106,
   "metadata": {
    "tags": []
   },
   "outputs": [
    {
     "name": "stdout",
     "output_type": "stream",
     "text": [
      "[-0.4043683   0.30485879  0.16198367  1.96670037]\n",
      "[-0.3908683   0.30434201  0.16127291  1.91123923]\n"
     ]
    }
   ],
   "source": [
    "thetadirect = XTXinv.dot(np.transpose(X_).dot(y_))\n",
    "print(thetadirect)\n",
    "print(theta)"
   ]
  },
  {
   "cell_type": "code",
   "execution_count": 107,
   "metadata": {
    "tags": []
   },
   "outputs": [
    {
     "name": "stdout",
     "output_type": "stream",
     "text": [
      "Mean error J: 2.048e+07\n"
     ]
    }
   ],
   "source": [
    "h_test = np.sum(thetadirect[np.newaxis, :] * X_test, axis=1)\n",
    "htest = FromRescaled(h_test, meany, stdy)\n",
    "\n",
    "print(\"Mean error J: %.3e\" % EvaluationError(ytest, htest))"
   ]
  },
  {
   "cell_type": "code",
   "execution_count": null,
   "metadata": {
    "tags": []
   },
   "outputs": [],
   "source": []
  }
 ],
 "metadata": {
  "kernelspec": {
   "display_name": "Python 3 (ipykernel)",
   "language": "python",
   "name": "python3"
  },
  "language_info": {
   "codemirror_mode": {
    "name": "ipython",
    "version": 3
   },
   "file_extension": ".py",
   "mimetype": "text/x-python",
   "name": "python",
   "nbconvert_exporter": "python",
   "pygments_lexer": "ipython3",
   "version": "3.9.8"
  }
 },
 "nbformat": 4,
 "nbformat_minor": 4
}
