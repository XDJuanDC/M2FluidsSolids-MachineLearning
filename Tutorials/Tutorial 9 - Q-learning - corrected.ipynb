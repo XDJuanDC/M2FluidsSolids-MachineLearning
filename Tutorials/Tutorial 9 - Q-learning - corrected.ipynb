{
 "cells": [
  {
   "cell_type": "markdown",
   "metadata": {},
   "source": [
    "# Hands-on Lesson 9 - Q-learning - corrected #\n",
    "The goal of this hands-on lesson is to implement and play with the Q-learning algorithm."
   ]
  },
  {
   "cell_type": "code",
   "execution_count": 1,
   "metadata": {},
   "outputs": [],
   "source": [
    "%matplotlib inline\n",
    "\n",
    "import numpy as np\n",
    "import matplotlib.pyplot as plt"
   ]
  },
  {
   "cell_type": "markdown",
   "metadata": {},
   "source": [
    "## Q-learning algorithm\n",
    "The aim of the Q-learning algorithm is to approach the Q-function, also called the action-value function, for the optimal policy $\\pi_*$\n",
    "\n",
    "$$q_{\\pi_*}(s,a) = \\mathbb{E}_{\\pi_*} \\left[ G_t | S_t = s, A_t=a \\right]$$\n",
    "\n",
    "where $G_t$ is the return defined as $G_t = R_{t+1} + \\gamma R_{t+2} + \\gamma^2 R_{t+3} + \\cdots$, with $\\gamma$ the discount factor in the interval [0, 1]. \n",
    "\n",
    "The Q-algorithm is an off-policy algorithm that learns the Q-function with following iteration \n",
    "\n",
    "$$Q(S,A) \\leftarrow Q(S,A)  + \\alpha \\left(R + \\gamma \\max_{a'}Q(S',a')- Q(S,A) \\right)$$\n",
    "\n",
    "where $\\alpha$ is the learning parameter, and $(S,A,R,S')$ is a sequence of state, action, reward, state. "
   ]
  },
  {
   "cell_type": "markdown",
   "metadata": {},
   "source": [
    "## The cliff walk problem\n",
    "\n",
    "The cliff walk problem consists in a grid where a player moves (horizontally or vertically). The initial position is at the bottom left, the final position at the bottom right. All grid points in between are the cliff, the rest is \"safe\". \n",
    "\n",
    "We define an environment class **CliffWalk**, with two main functions:\n",
    "- **render()** that draws the landscape and the position of the agent\n",
    "- **step(action)** that returns the new state of the system, the reward and a logical variable determining if the agent is done"
   ]
  },
  {
   "cell_type": "code",
   "execution_count": 2,
   "metadata": {},
   "outputs": [],
   "source": [
    "class CliffWalk:\n",
    "        \n",
    "    def __init__(self, Nhoriz=8, Nvert=4):\n",
    "        self.Nhoriz = Nhoriz\n",
    "        self.Nvert = Nvert\n",
    "        self.Nstates = Nhoriz * Nvert\n",
    "        self.Nactions = 4\n",
    "        self.player = None\n",
    "        self._create_grid() \n",
    "        print(self.grid)\n",
    "        self.render()\n",
    "        \n",
    "    def _state(self):\n",
    "        ''' Maps a position in x,y coordinates to a unique state scalar '''\n",
    "        return self.player[0] * self.Nhoriz + self.player[1]\n",
    "\n",
    "    def _create_grid(self):\n",
    "        self.grid = - 1 * np.ones((self.Nvert, self.Nhoriz), dtype=int)\n",
    "        self.grid[-1,-1] = 0\n",
    "        self.grid[-1,1:-1] = -10\n",
    "        \n",
    "    def render(self):\n",
    "        fig, ax = plt.subplots(num=1)\n",
    "        im = ax.imshow(self.grid)\n",
    "        ax.set_xticks(np.arange(self.Nhoriz))\n",
    "        ax.set_yticks(np.arange(self.Nvert))\n",
    "        if self.player is not None:\n",
    "            ax.plot(self.player[1], self.player[0] ,'.r')\n",
    "        plt.show()\n",
    "\n",
    "    def reset(self):\n",
    "        self.player = (self.Nvert-1,0)\n",
    "        return self._state()\n",
    "    \n",
    "    def step(self, action):\n",
    "        # Possible actions\n",
    "        if action == 0 and self.player[0] > 0: # UP\n",
    "            self.player = (self.player[0] - 1, self.player[1])\n",
    "        if action == 1 and self.player[0] < self.Nvert-1: # DOWN\n",
    "            self.player = (self.player[0] + 1, self.player[1])\n",
    "        if action == 2 and self.player[1] < self.Nhoriz-1: # RIGHT\n",
    "            self.player = (self.player[0], self.player[1] + 1)\n",
    "        if action == 3 and self.player[1] > 0:  # LEFT\n",
    "            self.player = (self.player[0], self.player[1] - 1)\n",
    "            \n",
    "        # Reward\n",
    "        reward = self.grid[self.player]\n",
    "        if reward == -1:\n",
    "            done = False\n",
    "        else:\n",
    "            done = True\n",
    "            \n",
    "        return self._state(), reward, done"
   ]
  },
  {
   "cell_type": "markdown",
   "metadata": {},
   "source": [
    "First, familiarize yourself with the environment"
   ]
  },
  {
   "cell_type": "code",
   "execution_count": 3,
   "metadata": {},
   "outputs": [
    {
     "name": "stdout",
     "output_type": "stream",
     "text": [
      "[[ -1  -1  -1  -1  -1  -1  -1  -1]\n",
      " [ -1  -1  -1  -1  -1  -1  -1  -1]\n",
      " [ -1  -1  -1  -1  -1  -1  -1  -1]\n",
      " [ -1 -10 -10 -10 -10 -10 -10   0]]\n"
     ]
    },
    {
     "data": {
      "image/png": "[encoded data removed]",
      "text/plain": [
       "<Figure size 432x288 with 1 Axes>"
      ]
     },
     "metadata": {
      "needs_background": "light"
     },
     "output_type": "display_data"
    }
   ],
   "source": [
    "env = CliffWalk()"
   ]
  },
  {
   "cell_type": "markdown",
   "metadata": {},
   "source": [
    "Now let's add an agent"
   ]
  },
  {
   "cell_type": "code",
   "execution_count": 4,
   "metadata": {},
   "outputs": [
    {
     "data": {
      "image/png": "[encoded data removed]",
      "text/plain": [
       "<Figure size 432x288 with 1 Axes>"
      ]
     },
     "metadata": {
      "needs_background": "light"
     },
     "output_type": "display_data"
    }
   ],
   "source": [
    "state = env.reset()\n",
    "env.render()"
   ]
  },
  {
   "cell_type": "markdown",
   "metadata": {},
   "source": [
    "And let's make it move randomly."
   ]
  },
  {
   "cell_type": "code",
   "execution_count": 5,
   "metadata": {},
   "outputs": [
    {
     "name": "stdout",
     "output_type": "stream",
     "text": [
      "24 3 -1 24 False\n"
     ]
    },
    {
     "data": {
      "image/png": "[encoded data removed]",
      "text/plain": [
       "<Figure size 432x288 with 1 Axes>"
      ]
     },
     "metadata": {
      "needs_background": "light"
     },
     "output_type": "display_data"
    },
    {
     "name": "stdout",
     "output_type": "stream",
     "text": [
      "24 2 -10 25 True\n"
     ]
    },
    {
     "data": {
      "image/png": "[encoded data removed]",
      "text/plain": [
       "<Figure size 432x288 with 1 Axes>"
      ]
     },
     "metadata": {
      "needs_background": "light"
     },
     "output_type": "display_data"
    },
    {
     "name": "stdout",
     "output_type": "stream",
     "text": [
      "25 0 -1 17 False\n"
     ]
    },
    {
     "data": {
      "image/png": "[encoded data removed]",
      "text/plain": [
       "<Figure size 432x288 with 1 Axes>"
      ]
     },
     "metadata": {
      "needs_background": "light"
     },
     "output_type": "display_data"
    },
    {
     "name": "stdout",
     "output_type": "stream",
     "text": [
      "17 1 -10 25 True\n"
     ]
    },
    {
     "data": {
      "image/png": "[encoded data removed]",
      "text/plain": [
       "<Figure size 432x288 with 1 Axes>"
      ]
     },
     "metadata": {
      "needs_background": "light"
     },
     "output_type": "display_data"
    },
    {
     "name": "stdout",
     "output_type": "stream",
     "text": [
      "25 1 -10 25 True\n"
     ]
    },
    {
     "data": {
      "image/png": "[encoded data removed]",
      "text/plain": [
       "<Figure size 432x288 with 1 Axes>"
      ]
     },
     "metadata": {
      "needs_background": "light"
     },
     "output_type": "display_data"
    },
    {
     "name": "stdout",
     "output_type": "stream",
     "text": [
      "25 1 -10 25 True\n"
     ]
    },
    {
     "data": {
      "image/png": "[encoded data removed]",
      "text/plain": [
       "<Figure size 432x288 with 1 Axes>"
      ]
     },
     "metadata": {
      "needs_background": "light"
     },
     "output_type": "display_data"
    },
    {
     "name": "stdout",
     "output_type": "stream",
     "text": [
      "25 0 -1 17 False\n"
     ]
    },
    {
     "data": {
      "image/png": "[encoded data removed]",
      "text/plain": [
       "<Figure size 432x288 with 1 Axes>"
      ]
     },
     "metadata": {
      "needs_background": "light"
     },
     "output_type": "display_data"
    },
    {
     "name": "stdout",
     "output_type": "stream",
     "text": [
      "17 0 -1 9 False\n"
     ]
    },
    {
     "data": {
      "image/png": "[encoded data removed]",
      "text/plain": [
       "<Figure size 432x288 with 1 Axes>"
      ]
     },
     "metadata": {
      "needs_background": "light"
     },
     "output_type": "display_data"
    },
    {
     "name": "stdout",
     "output_type": "stream",
     "text": [
      "9 0 -1 1 False\n"
     ]
    },
    {
     "data": {
      "image/png": "[encoded data removed]",
      "text/plain": [
       "<Figure size 432x288 with 1 Axes>"
      ]
     },
     "metadata": {
      "needs_background": "light"
     },
     "output_type": "display_data"
    },
    {
     "name": "stdout",
     "output_type": "stream",
     "text": [
      "1 1 -1 9 False\n"
     ]
    },
    {
     "data": {
      "image/png": "[encoded data removed]",
      "text/plain": [
       "<Figure size 432x288 with 1 Axes>"
      ]
     },
     "metadata": {
      "needs_background": "light"
     },
     "output_type": "display_data"
    }
   ],
   "source": [
    "env.reset()\n",
    "for _ in range(10):\n",
    "    action = np.random.randint(env.Nactions)\n",
    "    next_state, reward, done = env.step(action)\n",
    "    print(state, action, reward, next_state, done)\n",
    "    state = next_state\n",
    "    env.render()"
   ]
  },
  {
   "cell_type": "markdown",
   "metadata": {},
   "source": [
    "## Q_learning\n",
    "\n",
    "Let's implement the Q-learning algorithm. \n",
    "\n",
    "An important aspect is to choose how the policy will explore the state space. Below, we implement an $e$-greedy policy: with probability $e$, a random action is chosen; with probability $(1-e)$, the optimal action is chosen (the one that maximizes $Q(s,a)$ over all possible actions $a$). "
   ]
  },
  {
   "cell_type": "code",
   "execution_count": 6,
   "metadata": {},
   "outputs": [
    {
     "name": "stdout",
     "output_type": "stream",
     "text": [
      "[[ -1  -1  -1  -1  -1  -1  -1  -1]\n",
      " [ -1  -1  -1  -1  -1  -1  -1  -1]\n",
      " [ -1  -1  -1  -1  -1  -1  -1  -1]\n",
      " [ -1 -10 -10 -10 -10 -10 -10   0]]\n"
     ]
    },
    {
     "data": {
      "image/png": "[encoded data removed]",
      "text/plain": [
       "<Figure size 432x288 with 1 Axes>"
      ]
     },
     "metadata": {
      "needs_background": "light"
     },
     "output_type": "display_data"
    },
    {
     "name": "stdout",
     "output_type": "stream",
     "text": [
      "[[-4.9367427  -4.9994825  -4.9325592  -4.93631917]\n",
      " [-4.73121079 -4.75948993 -4.72455803 -4.71548412]\n",
      " [-4.40347276 -4.38098781 -4.38388427 -4.42020474]\n",
      " [-4.00538749 -3.96985496 -3.97327951 -4.01027598]\n",
      " [-3.49566079 -3.53635965 -3.4807932  -3.48904565]\n",
      " [-2.96154347 -2.92793717 -2.94535167 -2.99852551]\n",
      " [-2.36516926 -2.37267308 -2.38314205 -2.36818163]\n",
      " [-1.82093062 -1.79966649 -1.82093062 -1.87494083]\n",
      " [-5.1645927  -5.23370266 -5.14564457 -5.18558473]\n",
      " [-4.88876882 -4.903689   -4.89282583 -4.88093092]\n",
      " [-4.50042107 -4.48940441 -4.49304636 -4.69657432]\n",
      " [-3.9899799  -3.99479395 -3.99024967 -4.24963092]\n",
      " [-3.39324239 -3.39325465 -3.39431241 -3.51186318]\n",
      " [-2.68854021 -2.69028028 -2.68847301 -2.76588844]\n",
      " [-1.93819382 -1.89416291 -1.89416882 -2.16677622]\n",
      " [-1.27429276 -0.99995952 -1.04661746 -1.3465678 ]\n",
      " [-5.49331047 -6.0798107  -5.217031   -5.65274626]\n",
      " [-5.17807896 -9.74968445 -4.68559    -5.55061158]\n",
      " [-4.83860708 -9.0152291  -4.0951     -5.0362198 ]\n",
      " [-4.42624232 -9.28210201 -3.439      -4.53854182]\n",
      " [-3.93658215 -9.0152291  -2.71       -3.98288184]\n",
      " [-3.07179584 -8.90581011 -1.9        -3.36881745]\n",
      " [-2.5278415  -8.90581011 -1.         -2.41428358]\n",
      " [-1.59897142  0.         -0.87842335 -1.61460944]\n",
      " [-5.6953279  -6.08570246 -9.94273583 -6.08647899]\n",
      " [ 0.          0.          0.          0.        ]\n",
      " [ 0.          0.          0.          0.        ]\n",
      " [ 0.          0.          0.          0.        ]\n",
      " [ 0.          0.          0.          0.        ]\n",
      " [ 0.          0.          0.          0.        ]\n",
      " [ 0.          0.          0.          0.        ]\n",
      " [ 0.          0.          0.          0.        ]]\n"
     ]
    }
   ],
   "source": [
    "# LEARNING PARAMETERS\n",
    "Nepisodes = 1000\n",
    "exploration_rate = 0.1  # e\n",
    "learning_rate = 0.1     # alpha\n",
    "discount_factor = 0.9   # gamma \n",
    "   \n",
    "# INITIALISATION    \n",
    "env = CliffWalk()\n",
    "q_values = np.zeros((env.Nstates, env.Nactions))\n",
    "\n",
    "# Loop for episodes\n",
    "for _ in range(Nepisodes):\n",
    "    state = env.reset()    \n",
    "    done = False\n",
    "    \n",
    "    # Loop for steps within an episode\n",
    "    while not done:            \n",
    "        # Choose action (e-greedy policy)  \n",
    "        if np.random.random() > exploration_rate:\n",
    "            action = np.argmax(q_values[state])\n",
    "        else:\n",
    "            action = np.random.choice(env.Nactions)\n",
    "        # Do the action\n",
    "        next_state, reward, done = env.step(action)\n",
    "        # Update q_values       \n",
    "        target = reward + discount_factor * np.max(q_values[next_state])\n",
    "        error = target - q_values[state][action]\n",
    "        q_values[state][action] += learning_rate * error\n",
    "        # Update state\n",
    "        state = next_state\n",
    "\n",
    "print(q_values)"
   ]
  },
  {
   "cell_type": "markdown",
   "metadata": {},
   "source": [
    "Once the Q-function is learned, we can observe the optimal policy"
   ]
  },
  {
   "cell_type": "code",
   "execution_count": 7,
   "metadata": {},
   "outputs": [
    {
     "name": "stdout",
     "output_type": "stream",
     "text": [
      "SARS: 24 0 -1 16\n"
     ]
    },
    {
     "data": {
      "image/png": "[encoded data removed]",
      "text/plain": [
       "<Figure size 432x288 with 1 Axes>"
      ]
     },
     "metadata": {
      "needs_background": "light"
     },
     "output_type": "display_data"
    },
    {
     "name": "stdout",
     "output_type": "stream",
     "text": [
      "SARS: 16 2 -1 17\n"
     ]
    },
    {
     "data": {
      "image/png": "[encoded data removed]",
      "text/plain": [
       "<Figure size 432x288 with 1 Axes>"
      ]
     },
     "metadata": {
      "needs_background": "light"
     },
     "output_type": "display_data"
    },
    {
     "name": "stdout",
     "output_type": "stream",
     "text": [
      "SARS: 17 2 -1 18\n"
     ]
    },
    {
     "data": {
      "image/png": "[encoded data removed]",
      "text/plain": [
       "<Figure size 432x288 with 1 Axes>"
      ]
     },
     "metadata": {
      "needs_background": "light"
     },
     "output_type": "display_data"
    },
    {
     "name": "stdout",
     "output_type": "stream",
     "text": [
      "SARS: 18 2 -1 19\n"
     ]
    },
    {
     "data": {
      "image/png": "[encoded data removed]",
      "text/plain": [
       "<Figure size 432x288 with 1 Axes>"
      ]
     },
     "metadata": {
      "needs_background": "light"
     },
     "output_type": "display_data"
    },
    {
     "name": "stdout",
     "output_type": "stream",
     "text": [
      "SARS: 19 2 -1 20\n"
     ]
    },
    {
     "data": {
      "image/png": "[encoded data removed]",
      "text/plain": [
       "<Figure size 432x288 with 1 Axes>"
      ]
     },
     "metadata": {
      "needs_background": "light"
     },
     "output_type": "display_data"
    },
    {
     "name": "stdout",
     "output_type": "stream",
     "text": [
      "SARS: 20 2 -1 21\n"
     ]
    },
    {
     "data": {
      "image/png": "[encoded data removed]",
      "text/plain": [
       "<Figure size 432x288 with 1 Axes>"
      ]
     },
     "metadata": {
      "needs_background": "light"
     },
     "output_type": "display_data"
    },
    {
     "name": "stdout",
     "output_type": "stream",
     "text": [
      "SARS: 21 2 -1 22\n"
     ]
    },
    {
     "data": {
      "image/png": "[encoded data removed]",
      "text/plain": [
       "<Figure size 432x288 with 1 Axes>"
      ]
     },
     "metadata": {
      "needs_background": "light"
     },
     "output_type": "display_data"
    },
    {
     "name": "stdout",
     "output_type": "stream",
     "text": [
      "SARS: 22 2 -1 23\n"
     ]
    },
    {
     "data": {
      "image/png": "[encoded data removed]",
      "text/plain": [
       "<Figure size 432x288 with 1 Axes>"
      ]
     },
     "metadata": {
      "needs_background": "light"
     },
     "output_type": "display_data"
    },
    {
     "name": "stdout",
     "output_type": "stream",
     "text": [
      "SARS: 23 1 0 31\n"
     ]
    },
    {
     "data": {
      "image/png": "[encoded data removed]",
      "text/plain": [
       "<Figure size 432x288 with 1 Axes>"
      ]
     },
     "metadata": {
      "needs_background": "light"
     },
     "output_type": "display_data"
    }
   ],
   "source": [
    "max_steps = 15\n",
    "state = env.reset()    \n",
    "done = False\n",
    "t = 0\n",
    "\n",
    "# Loop for steps within an episode\n",
    "while (not done) & (t < max_steps):\n",
    "    t += 1\n",
    "    # Choose action (greedy policy)  \n",
    "    action = np.argmax(q_values[state])\n",
    "    # Do the action\n",
    "    next_state, reward, done = env.step(action)\n",
    "    print('SARS:', state, action, reward, next_state)\n",
    "    # Update state\n",
    "    state = next_state\n",
    "    # plot\n",
    "    env.render()"
   ]
  },
  {
   "cell_type": "markdown",
   "metadata": {},
   "source": [
    "**EXERCISE:** To assess the quality of control, we want to plot the return for each episode as the algorithm advances. "
   ]
  },
  {
   "cell_type": "code",
   "execution_count": 8,
   "metadata": {},
   "outputs": [
    {
     "name": "stdout",
     "output_type": "stream",
     "text": [
      "[[ -1  -1  -1  -1  -1  -1  -1  -1]\n",
      " [ -1  -1  -1  -1  -1  -1  -1  -1]\n",
      " [ -1  -1  -1  -1  -1  -1  -1  -1]\n",
      " [ -1 -10 -10 -10 -10 -10 -10   0]]\n"
     ]
    },
    {
     "data": {
      "image/png": "[encoded data removed]",
      "text/plain": [
       "<Figure size 432x288 with 1 Axes>"
      ]
     },
     "metadata": {
      "needs_background": "light"
     },
     "output_type": "display_data"
    },
    {
     "data": {
      "text/plain": [
       "[<matplotlib.lines.Line2D at 0x10e882fa0>]"
      ]
     },
     "execution_count": 8,
     "metadata": {},
     "output_type": "execute_result"
    },
    {
     "data": {
      "image/png": "[encoded data removed]",
      "text/plain": [
       "<Figure size 432x288 with 1 Axes>"
      ]
     },
     "metadata": {
      "needs_background": "light"
     },
     "output_type": "display_data"
    }
   ],
   "source": [
    "# LEARNING PARAMETERS\n",
    "Nepisodes = 1000\n",
    "exploration_rate = 0.1  # e\n",
    "learning_rate = 0.1     # alpha\n",
    "discount_factor = 0.9   # gamma \n",
    "   \n",
    "# INITIALISATION    \n",
    "env = CliffWalk()\n",
    "q_values = np.zeros((env.Nstates, env.Nactions))\n",
    "returns = np.zeros(Nepisodes)\n",
    "\n",
    "# Loop for episodes\n",
    "for nepisode in range(Nepisodes):\n",
    "    state = env.reset()    \n",
    "    done = False\n",
    "    reward_sum = 0\n",
    "    \n",
    "    # Loop for steps within an episode\n",
    "    while not done:            \n",
    "        # Choose action (e-greedy policy)  \n",
    "        if np.random.random() > exploration_rate:\n",
    "            action = np.argmax(q_values[state])\n",
    "        else:\n",
    "            action = np.random.choice(env.Nactions)\n",
    "        # Do the action\n",
    "        next_state, reward, done = env.step(action)\n",
    "        reward_sum += reward\n",
    "        # Update q_values       \n",
    "        target = reward + discount_factor * np.max(q_values[next_state])\n",
    "        error = target - q_values[state][action]\n",
    "        q_values[state][action] += learning_rate * error\n",
    "        # Update state\n",
    "        state = next_state\n",
    "\n",
    "    returns[nepisode] = reward_sum\n",
    "\n",
    "plt.plot(returns)"
   ]
  },
  {
   "cell_type": "markdown",
   "metadata": {},
   "source": [
    "**EXERCISE:** We now want to explore alternative policies. One of them is a Boltzmann exploration (or soft-max): the action is chosen with a probability\n",
    "\n",
    "$$p(a;s) = \\frac{\\exp(Q(s,a)/\\tau)}{\\sum_{a'}\\exp(Q(s,a')/\\tau) } $$\n",
    "\n",
    "where $\\tau$ is a \"temperature\". \n",
    "\n",
    "Indentify the role of $\\tau$ in terms of exploration-exploitation. Implement this policy and compare its performance with an e-greedy policy."
   ]
  },
  {
   "cell_type": "code",
   "execution_count": 9,
   "metadata": {},
   "outputs": [
    {
     "name": "stdout",
     "output_type": "stream",
     "text": [
      "[[ -1  -1  -1  -1  -1  -1  -1  -1]\n",
      " [ -1  -1  -1  -1  -1  -1  -1  -1]\n",
      " [ -1  -1  -1  -1  -1  -1  -1  -1]\n",
      " [ -1 -10 -10 -10 -10 -10 -10   0]]\n"
     ]
    },
    {
     "data": {
      "image/png": "[encoded data removed]",
      "text/plain": [
       "<Figure size 432x288 with 1 Axes>"
      ]
     },
     "metadata": {
      "needs_background": "light"
     },
     "output_type": "display_data"
    },
    {
     "name": "stdout",
     "output_type": "stream",
     "text": [
      "[[-4.72915624 -4.76993535 -4.73040254 -4.73066704]\n",
      " [-4.46242541 -4.49695163 -4.48250047 -4.48417074]\n",
      " [-4.17891455 -4.20246477 -4.13851832 -4.13690196]\n",
      " [-3.75121201 -3.73115163 -3.71910007 -3.77376843]\n",
      " [-3.29867752 -3.25644209 -3.26307542 -3.30803665]\n",
      " [-2.73741776 -2.7646432  -2.74504437 -2.77457752]\n",
      " [-2.21375215 -2.20588771 -2.2216815  -2.23706848]\n",
      " [-1.73621787 -1.70872563 -1.73529253 -1.74615988]\n",
      " [-4.95799265 -4.99022207 -4.933595   -4.98363139]\n",
      " [-4.60033912 -4.57053466 -4.60181016 -4.62149113]\n",
      " [-4.20375512 -4.21045255 -4.16555046 -4.26767083]\n",
      " [-3.6897631  -3.7132345  -3.66293357 -3.74290494]\n",
      " [-3.19104243 -3.10437313 -3.10258682 -3.14985772]\n",
      " [-2.52952523 -2.51472376 -2.48099624 -2.50086797]\n",
      " [-1.83740814 -1.79008132 -1.78570418 -1.90048672]\n",
      " [-1.11449401 -0.99293035 -1.04621628 -1.01736251]\n",
      " [-5.29748106 -5.34709795 -5.217031   -5.30315589]\n",
      " [-4.77841221 -5.217031   -4.68559    -4.83465901]\n",
      " [-4.18924297 -4.68559    -4.0951     -4.23505636]\n",
      " [-3.58036057 -4.0951     -3.439      -3.58603462]\n",
      " [-2.79345884 -3.439      -2.71       -2.79745074]\n",
      " [-1.96560035 -2.71       -1.9        -2.11067855]\n",
      " [-1.11211393 -1.9        -1.         -1.1059898 ]\n",
      " [-0.1         0.         -0.1        -0.10981   ]\n",
      " [-5.6953279  -5.79510549 -6.12579511 -5.79476516]\n",
      " [ 0.          0.          0.          0.        ]\n",
      " [ 0.          0.          0.          0.        ]\n",
      " [ 0.          0.          0.          0.        ]\n",
      " [ 0.          0.          0.          0.        ]\n",
      " [ 0.          0.          0.          0.        ]\n",
      " [ 0.          0.          0.          0.        ]\n",
      " [ 0.          0.          0.          0.        ]]\n"
     ]
    },
    {
     "data": {
      "image/png": "[encoded data removed]",
      "text/plain": [
       "<Figure size 432x288 with 1 Axes>"
      ]
     },
     "metadata": {
      "needs_background": "light"
     },
     "output_type": "display_data"
    }
   ],
   "source": [
    "# LEARNING PARAMETERS\n",
    "Nepisodes = 1000\n",
    "temperature = 0.01  # temperature\n",
    "learning_rate = 0.1     # alpha\n",
    "discount_factor = 0.9   # gamma \n",
    "   \n",
    "# INITIALISATION    \n",
    "env = CliffWalk()\n",
    "q_values = np.zeros((env.Nstates, env.Nactions))\n",
    "returns = np.zeros(Nepisodes)\n",
    "\n",
    "# Loop for episodes\n",
    "for nepisode in range(Nepisodes):\n",
    "    state = env.reset()    \n",
    "    done = False\n",
    "    reward_sum = 0\n",
    "    \n",
    "    # Loop for steps within an episode\n",
    "    while not done:            \n",
    "        # Choose action (soft-max)\n",
    "        probability = np.exp(q_values[state] / temperature)\n",
    "        probability /= np.sum(probability)\n",
    "        action = np.random.choice(env.Nactions, p=probability)           \n",
    "        # Do the action\n",
    "        next_state, reward, done = env.step(action)\n",
    "        reward_sum += reward\n",
    "        # Update q_values       \n",
    "        target = reward + discount_factor * np.max(q_values[next_state])\n",
    "        error = target - q_values[state][action]\n",
    "        q_values[state][action] += learning_rate * error\n",
    "        # Update state\n",
    "        state = next_state\n",
    "\n",
    "    returns[nepisode] = reward_sum\n",
    "\n",
    "plt.plot(returns)\n",
    "print(q_values)"
   ]
  },
  {
   "cell_type": "markdown",
   "metadata": {},
   "source": [
    "**EXERCISE:** Usually the control is moved toward more exploitation / less exploration as time advances. This is done by changing the exploration rate (the $e$ in the $e$-greedy policy) or the temperature (for the Boltzmann policy) over time. Show that this helps to converge towards the optimal policy."
   ]
  },
  {
   "cell_type": "code",
   "execution_count": 10,
   "metadata": {},
   "outputs": [
    {
     "name": "stdout",
     "output_type": "stream",
     "text": [
      "[[ -1  -1  -1  -1  -1  -1  -1  -1]\n",
      " [ -1  -1  -1  -1  -1  -1  -1  -1]\n",
      " [ -1  -1  -1  -1  -1  -1  -1  -1]\n",
      " [ -1 -10 -10 -10 -10 -10 -10   0]]\n"
     ]
    },
    {
     "data": {
      "image/png": "[encoded data removed]",
      "text/plain": [
       "<Figure size 432x288 with 1 Axes>"
      ]
     },
     "metadata": {
      "needs_background": "light"
     },
     "output_type": "display_data"
    },
    {
     "data": {
      "text/plain": [
       "[<matplotlib.lines.Line2D at 0x10e747760>]"
      ]
     },
     "execution_count": 10,
     "metadata": {},
     "output_type": "execute_result"
    },
    {
     "data": {
      "image/png": "[encoded data removed]",
      "text/plain": [
       "<Figure size 432x288 with 1 Axes>"
      ]
     },
     "metadata": {
      "needs_background": "light"
     },
     "output_type": "display_data"
    }
   ],
   "source": [
    "# LEARNING PARAMETERS\n",
    "Nepisodes = 1000\n",
    "temperature = 1.        # temperature     <--------- Initial temperature\n",
    "learning_rate = 0.1     # alpha\n",
    "discount_factor = 0.9   # gamma \n",
    "   \n",
    "# INITIALISATION    \n",
    "env = CliffWalk()\n",
    "q_values = np.zeros((env.Nstates, env.Nactions))\n",
    "returns = np.zeros(Nepisodes)\n",
    "\n",
    "# Loop for episodes\n",
    "for nepisode in range(Nepisodes):\n",
    "    state = env.reset()    \n",
    "    done = False\n",
    "    reward_sum = 0\n",
    "    temperature *= 0.9954  # <-------- After 1000 episodes, the temperature will be 0.99954**1000 = 0.01\n",
    "    \n",
    "    # Loop for steps within an episode\n",
    "    while not done:            \n",
    "        # Choose action (soft-max)\n",
    "        probability = np.exp(q_values[state] / temperature)\n",
    "        probability /= np.sum(probability)\n",
    "        action = np.random.choice(env.Nactions, p=probability)           \n",
    "        # Do the action\n",
    "        next_state, reward, done = env.step(action)\n",
    "        reward_sum += reward\n",
    "        # Update q_values       \n",
    "        target = reward + discount_factor * np.max(q_values[next_state])\n",
    "        error = target - q_values[state][action]\n",
    "        q_values[state][action] += learning_rate * error\n",
    "        # Update state\n",
    "        state = next_state\n",
    "\n",
    "    returns[nepisode] = reward_sum\n",
    "\n",
    "plt.plot(returns)"
   ]
  },
  {
   "cell_type": "markdown",
   "metadata": {},
   "source": [
    "## Adding some stochasticity \n",
    "\n",
    "Now the environment is no longer deterministic. We imagine there are wind gusts towards the cliff, and with a certain probability, the agent may be moved downwards instead of the chosen action"
   ]
  },
  {
   "cell_type": "code",
   "execution_count": 12,
   "metadata": {},
   "outputs": [],
   "source": [
    "class CliffWalkStochastic:      \n",
    "    def __init__(self, Nhoriz=8, Nvert=4, Pwind=0.3):\n",
    "        self.Pwind = Pwind  # New line\n",
    "        self.Nhoriz = Nhoriz\n",
    "        self.Nvert = Nvert\n",
    "        self.Nstates = Nhoriz * Nvert\n",
    "        self.Nactions = 4\n",
    "        self.player = None\n",
    "        self._create_grid() \n",
    "        print(self.grid)\n",
    "        self.render()\n",
    "        \n",
    "    def _state(self):\n",
    "        ''' Maps a position in x,y coordinates to a unique state scalar '''\n",
    "        return self.player[0] * self.Nhoriz + self.player[1]\n",
    "\n",
    "    def _create_grid(self):\n",
    "        self.grid = - 1 * np.ones((self.Nvert, self.Nhoriz), dtype=int)\n",
    "        self.grid[-1,-1] = 0\n",
    "        self.grid[-1,1:-1] = -10\n",
    "        \n",
    "    def render(self):\n",
    "        fig, ax = plt.subplots(num=1)\n",
    "        im = ax.imshow(self.grid)\n",
    "        ax.set_xticks(np.arange(self.Nhoriz))\n",
    "        ax.set_yticks(np.arange(self.Nvert))\n",
    "        if self.player is not None:\n",
    "            ax.plot(self.player[1], self.player[0] ,'.r')\n",
    "        plt.show()\n",
    "\n",
    "    def reset(self):\n",
    "        self.player = (self.Nvert-1,0)\n",
    "        return self._state()   \n",
    "\n",
    "    def step(self, action):\n",
    "        if np.random.random() < self.Pwind:  # New lines \n",
    "            action = 1                       #\n",
    "        # Possible actions\n",
    "        if action == 0 and self.player[0] > 0: # UP\n",
    "            self.player = (self.player[0] - 1, self.player[1])\n",
    "        if action == 1 and self.player[0] < self.Nvert-1: # DOWN\n",
    "            self.player = (self.player[0] + 1, self.player[1])\n",
    "        if action == 2 and self.player[1] < self.Nhoriz-1: # RIGHT\n",
    "            self.player = (self.player[0], self.player[1] + 1)\n",
    "        if action == 3 and self.player[1] > 0:  # LEFT\n",
    "            self.player = (self.player[0], self.player[1] - 1)\n",
    "            \n",
    "        # Reward\n",
    "        reward = self.grid[self.player]\n",
    "        if reward == -1:\n",
    "            done = False\n",
    "        else:\n",
    "            done = True\n",
    "            \n",
    "        return self._state(), reward, done"
   ]
  },
  {
   "cell_type": "markdown",
   "metadata": {},
   "source": [
    "**EXERCISE:** See how this stochastic wind affects the optimal policy. "
   ]
  },
  {
   "cell_type": "code",
   "execution_count": 13,
   "metadata": {},
   "outputs": [
    {
     "name": "stdout",
     "output_type": "stream",
     "text": [
      "[[ -1  -1  -1  -1  -1  -1  -1  -1]\n",
      " [ -1  -1  -1  -1  -1  -1  -1  -1]\n",
      " [ -1  -1  -1  -1  -1  -1  -1  -1]\n",
      " [ -1 -10 -10 -10 -10 -10 -10   0]]\n"
     ]
    },
    {
     "data": {
      "image/png": "[encoded data removed]",
      "text/plain": [
       "<Figure size 432x288 with 1 Axes>"
      ]
     },
     "metadata": {
      "needs_background": "light"
     },
     "output_type": "display_data"
    },
    {
     "data": {
      "text/plain": [
       "[<matplotlib.lines.Line2D at 0x10e85b4c0>]"
      ]
     },
     "execution_count": 13,
     "metadata": {},
     "output_type": "execute_result"
    },
    {
     "data": {
      "image/png": "[encoded data removed]",
      "text/plain": [
       "<Figure size 432x288 with 1 Axes>"
      ]
     },
     "metadata": {
      "needs_background": "light"
     },
     "output_type": "display_data"
    }
   ],
   "source": [
    "# LEARNING PARAMETERS\n",
    "Nepisodes = 3000\n",
    "temperature = 1        # temperature\n",
    "learning_rate = 0.03     # alpha\n",
    "discount_factor = 0.9   # gamma \n",
    "   \n",
    "# INITIALISATION    \n",
    "env = CliffWalkStochastic()\n",
    "q_values = np.zeros((env.Nstates, env.Nactions))\n",
    "returns = np.zeros(Nepisodes)\n",
    "\n",
    "# Loop for episodes\n",
    "for nepisode in range(Nepisodes):\n",
    "    state = env.reset()    \n",
    "    done = False\n",
    "    reward_sum = 0\n",
    "    temperature *= 0.999\n",
    "    \n",
    "    # Loop for steps within an episode\n",
    "    while not done:            \n",
    "        # Choose action (soft-max)\n",
    "        probability = np.exp(q_values[state] / temperature)\n",
    "        probability /= np.sum(probability)\n",
    "        action = np.random.choice(env.Nactions, p=probability)           \n",
    "        # Do the action\n",
    "        next_state, reward, done = env.step(action)\n",
    "        reward_sum += reward\n",
    "        # Update q_values       \n",
    "        target = reward + discount_factor * np.max(q_values[next_state])\n",
    "        error = target - q_values[state][action]\n",
    "        q_values[state][action] += learning_rate * error\n",
    "        # Update state\n",
    "        state = next_state\n",
    "\n",
    "    returns[nepisode] = reward_sum\n",
    "\n",
    "plt.plot(returns)"
   ]
  },
  {
   "cell_type": "code",
   "execution_count": 14,
   "metadata": {},
   "outputs": [
    {
     "name": "stdout",
     "output_type": "stream",
     "text": [
      "SARS: 24 0 -1 16\n"
     ]
    },
    {
     "data": {
      "image/png": "[encoded data removed]",
      "text/plain": [
       "<Figure size 432x288 with 1 Axes>"
      ]
     },
     "metadata": {
      "needs_background": "light"
     },
     "output_type": "display_data"
    },
    {
     "name": "stdout",
     "output_type": "stream",
     "text": [
      "SARS: 16 0 -1 8\n"
     ]
    },
    {
     "data": {
      "image/png": "[encoded data removed]",
      "text/plain": [
       "<Figure size 432x288 with 1 Axes>"
      ]
     },
     "metadata": {
      "needs_background": "light"
     },
     "output_type": "display_data"
    },
    {
     "name": "stdout",
     "output_type": "stream",
     "text": [
      "SARS: 8 0 -1 0\n"
     ]
    },
    {
     "data": {
      "image/png": "[encoded data removed]",
      "text/plain": [
       "<Figure size 432x288 with 1 Axes>"
      ]
     },
     "metadata": {
      "needs_background": "light"
     },
     "output_type": "display_data"
    },
    {
     "name": "stdout",
     "output_type": "stream",
     "text": [
      "SARS: 0 2 -1 8\n"
     ]
    },
    {
     "data": {
      "image/png": "[encoded data removed]",
      "text/plain": [
       "<Figure size 432x288 with 1 Axes>"
      ]
     },
     "metadata": {
      "needs_background": "light"
     },
     "output_type": "display_data"
    },
    {
     "name": "stdout",
     "output_type": "stream",
     "text": [
      "SARS: 8 0 -1 0\n"
     ]
    },
    {
     "data": {
      "image/png": "[encoded data removed]",
      "text/plain": [
       "<Figure size 432x288 with 1 Axes>"
      ]
     },
     "metadata": {
      "needs_background": "light"
     },
     "output_type": "display_data"
    },
    {
     "name": "stdout",
     "output_type": "stream",
     "text": [
      "SARS: 0 2 -1 1\n"
     ]
    },
    {
     "data": {
      "image/png": "[encoded data removed]",
      "text/plain": [
       "<Figure size 432x288 with 1 Axes>"
      ]
     },
     "metadata": {
      "needs_background": "light"
     },
     "output_type": "display_data"
    },
    {
     "name": "stdout",
     "output_type": "stream",
     "text": [
      "SARS: 1 2 -1 2\n"
     ]
    },
    {
     "data": {
      "image/png": "[encoded data removed]",
      "text/plain": [
       "<Figure size 432x288 with 1 Axes>"
      ]
     },
     "metadata": {
      "needs_background": "light"
     },
     "output_type": "display_data"
    },
    {
     "name": "stdout",
     "output_type": "stream",
     "text": [
      "SARS: 2 2 -1 3\n"
     ]
    },
    {
     "data": {
      "image/png": "[encoded data removed]",
      "text/plain": [
       "<Figure size 432x288 with 1 Axes>"
      ]
     },
     "metadata": {
      "needs_background": "light"
     },
     "output_type": "display_data"
    },
    {
     "name": "stdout",
     "output_type": "stream",
     "text": [
      "SARS: 3 2 -1 4\n"
     ]
    },
    {
     "data": {
      "image/png": "[encoded data removed]",
      "text/plain": [
       "<Figure size 432x288 with 1 Axes>"
      ]
     },
     "metadata": {
      "needs_background": "light"
     },
     "output_type": "display_data"
    },
    {
     "name": "stdout",
     "output_type": "stream",
     "text": [
      "SARS: 4 2 -1 5\n"
     ]
    },
    {
     "data": {
      "image/png": "[encoded data removed]",
      "text/plain": [
       "<Figure size 432x288 with 1 Axes>"
      ]
     },
     "metadata": {
      "needs_background": "light"
     },
     "output_type": "display_data"
    },
    {
     "name": "stdout",
     "output_type": "stream",
     "text": [
      "SARS: 5 2 -1 6\n"
     ]
    },
    {
     "data": {
      "image/png": "[encoded data removed]",
      "text/plain": [
       "<Figure size 432x288 with 1 Axes>"
      ]
     },
     "metadata": {
      "needs_background": "light"
     },
     "output_type": "display_data"
    },
    {
     "name": "stdout",
     "output_type": "stream",
     "text": [
      "SARS: 6 2 -1 7\n"
     ]
    },
    {
     "data": {
      "image/png": "[encoded data removed]",
      "text/plain": [
       "<Figure size 432x288 with 1 Axes>"
      ]
     },
     "metadata": {
      "needs_background": "light"
     },
     "output_type": "display_data"
    },
    {
     "name": "stdout",
     "output_type": "stream",
     "text": [
      "SARS: 7 1 -1 15\n"
     ]
    },
    {
     "data": {
      "image/png": "[encoded data removed]",
      "text/plain": [
       "<Figure size 432x288 with 1 Axes>"
      ]
     },
     "metadata": {
      "needs_background": "light"
     },
     "output_type": "display_data"
    },
    {
     "name": "stdout",
     "output_type": "stream",
     "text": [
      "SARS: 15 1 -1 23\n"
     ]
    },
    {
     "data": {
      "image/png": "[encoded data removed]",
      "text/plain": [
       "<Figure size 432x288 with 1 Axes>"
      ]
     },
     "metadata": {
      "needs_background": "light"
     },
     "output_type": "display_data"
    },
    {
     "name": "stdout",
     "output_type": "stream",
     "text": [
      "SARS: 23 1 0 31\n"
     ]
    },
    {
     "data": {
      "image/png": "[encoded data removed]",
      "text/plain": [
       "<Figure size 432x288 with 1 Axes>"
      ]
     },
     "metadata": {
      "needs_background": "light"
     },
     "output_type": "display_data"
    }
   ],
   "source": [
    "max_steps = 20\n",
    "state = env.reset()    \n",
    "done = False\n",
    "t = 0\n",
    "\n",
    "# Loop for steps within an episode\n",
    "while (not done) & (t < max_steps):\n",
    "    t += 1\n",
    "    # Choose action (greedy policy)  \n",
    "    action = np.argmax(q_values[state])\n",
    "    # Do the action\n",
    "    next_state, reward, done = env.step(action)\n",
    "    print('SARS:', state, action, reward, next_state)\n",
    "    # Update state\n",
    "    state = next_state\n",
    "    # plot\n",
    "    env.render()"
   ]
  },
  {
   "cell_type": "code",
   "execution_count": null,
   "metadata": {},
   "outputs": [],
   "source": []
  }
 ],
 "metadata": {
  "kernelspec": {
   "display_name": "Python 3",
   "language": "python",
   "name": "python3"
  },
  "language_info": {
   "codemirror_mode": {
    "name": "ipython",
    "version": 3
   },
   "file_extension": ".py",
   "mimetype": "text/x-python",
   "name": "python",
   "nbconvert_exporter": "python",
   "pygments_lexer": "ipython3",
   "version": "3.8.6"
  }
 },
 "nbformat": 4,
 "nbformat_minor": 4
}
